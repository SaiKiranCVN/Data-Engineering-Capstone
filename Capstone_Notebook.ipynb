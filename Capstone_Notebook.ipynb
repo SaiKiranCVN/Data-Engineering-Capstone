{
  "nbformat": 4,
  "nbformat_minor": 5,
  "metadata": {
    "kernelspec": {
      "display_name": "PySpark",
      "language": "",
      "name": "pysparkkernel"
    },
    "language_info": {
      "codemirror_mode": {
        "name": "python",
        "version": 3
      },
      "mimetype": "text/x-python",
      "name": "pyspark",
      "pygments_lexer": "python3"
    },
    "colab": {
      "name": "Capstone Notebook.ipynb",
      "provenance": [],
      "collapsed_sections": []
    }
  },
  "cells": [
    {
      "cell_type": "markdown",
      "metadata": {
        "id": "a123676e"
      },
      "source": [
        "# Temperature impact on Immigration\n",
        "\n",
        "## Data Engineering Capstone Project\n",
        "\n",
        "Project Summary\n",
        "\n",
        "### The project follows the follow steps:\n",
        "\n",
        "* Step 1: Scope the Project and Gather Data\n",
        "* Step 2: Explore and Assess the Data\n",
        "* Step 3: Define the Data Model\n",
        "* Step 4: Run ETL to Model the Data\n",
        "* Step 5: Complete Project Write Up"
      ],
      "id": "a123676e"
    },
    {
      "cell_type": "code",
      "metadata": {
        "colab": {
          "referenced_widgets": [
            "3cb1c5a457d7453c90c8cf5c41f7dd04",
            ""
          ]
        },
        "id": "d7d3bd01",
        "outputId": "892722fa-7aa6-4196-ed0f-6c874a9e9502"
      },
      "source": [
        "# import pandas as pd\n",
        "import re\n",
        "# import psycopg2  # For postgres\n",
        "from collections import defaultdict\n",
        "from datetime import datetime, timedelta\n",
        "from pyspark.sql.functions import udf  # For pyspark\n",
        "from pyspark.sql.types import *\n",
        "from pyspark.sql.functions import *"
      ],
      "id": "d7d3bd01",
      "execution_count": null,
      "outputs": [
        {
          "output_type": "display_data",
          "data": {
            "application/vnd.jupyter.widget-view+json": {
              "model_id": "3cb1c5a457d7453c90c8cf5c41f7dd04",
              "version_major": 2,
              "version_minor": 0
            },
            "text/plain": [
              "VBox()"
            ]
          },
          "metadata": {
            "tags": []
          }
        },
        {
          "output_type": "stream",
          "text": [
            "Starting Spark application\n"
          ],
          "name": "stdout"
        },
        {
          "output_type": "display_data",
          "data": {
            "text/html": [
              "<table>\n",
              "<tr><th>ID</th><th>YARN Application ID</th><th>Kind</th><th>State</th><th>Spark UI</th><th>Driver log</th><th>Current session?</th></tr><tr><td>0</td><td>application_1625332603062_0001</td><td>pyspark</td><td>idle</td><td><a target=\"_blank\" href=\"http://ip-172-31-76-98.ec2.internal:20888/proxy/application_1625332603062_0001/\" class=\"emr-proxy-link\" emr-resource=\"j-1AJRARIEPP6DO\n",
              "\" application-id=\"application_1625332603062_0001\">Link</a></td><td><a target=\"_blank\" href=\"http://ip-172-31-76-98.ec2.internal:8042/node/containerlogs/container_1625332603062_0001_01_000001/livy\" >Link</a></td><td>✔</td></tr></table>"
            ],
            "text/plain": [
              "<IPython.core.display.HTML object>"
            ]
          },
          "metadata": {
            "tags": []
          }
        },
        {
          "output_type": "display_data",
          "data": {
            "application/vnd.jupyter.widget-view+json": {
              "model_id": "",
              "version_major": 2,
              "version_minor": 0
            },
            "text/plain": [
              "FloatProgress(value=0.0, bar_style='info', description='Progress:', layout=Layout(height='25px', width='50%'),…"
            ]
          },
          "metadata": {
            "tags": []
          }
        },
        {
          "output_type": "stream",
          "text": [
            "SparkSession available as 'spark'.\n"
          ],
          "name": "stdout"
        },
        {
          "output_type": "display_data",
          "data": {
            "application/vnd.jupyter.widget-view+json": {
              "model_id": "",
              "version_major": 2,
              "version_minor": 0
            },
            "text/plain": [
              "FloatProgress(value=0.0, bar_style='info', description='Progress:', layout=Layout(height='25px', width='50%'),…"
            ]
          },
          "metadata": {
            "tags": []
          }
        }
      ]
    },
    {
      "cell_type": "code",
      "metadata": {
        "colab": {
          "referenced_widgets": [
            "16aabfcde8fb443ba88c1eb05e9e2ee5",
            ""
          ]
        },
        "id": "fee1adb4",
        "outputId": "8c348baf-af66-4009-efdc-43082ac59fda"
      },
      "source": [
        "#Installs\n",
        "#sc.install_pypi_package(\"pandas\")\n",
        "#sc.install_pypi_package(\"boto3\")\n",
        "#sc.install_pypi_package(\"psycopg2\")\n",
        "# sc.install_pypi_package(\"numpy==1.17.3\")\n",
        "#sc.install_pypi_package(\"smart_open\")"
      ],
      "id": "fee1adb4",
      "execution_count": null,
      "outputs": [
        {
          "output_type": "display_data",
          "data": {
            "application/vnd.jupyter.widget-view+json": {
              "model_id": "16aabfcde8fb443ba88c1eb05e9e2ee5",
              "version_major": 2,
              "version_minor": 0
            },
            "text/plain": [
              "VBox()"
            ]
          },
          "metadata": {
            "tags": []
          }
        },
        {
          "output_type": "display_data",
          "data": {
            "application/vnd.jupyter.widget-view+json": {
              "model_id": "",
              "version_major": 2,
              "version_minor": 0
            },
            "text/plain": [
              "FloatProgress(value=0.0, bar_style='info', description='Progress:', layout=Layout(height='25px', width='50%'),…"
            ]
          },
          "metadata": {
            "tags": []
          }
        }
      ]
    },
    {
      "cell_type": "code",
      "metadata": {
        "colab": {
          "referenced_widgets": [
            "3645f010752142d7a026ddbfaf0921a6",
            ""
          ]
        },
        "id": "c43b6577",
        "outputId": "81ca563a-d471-4577-aff1-2e6653661d61"
      },
      "source": [
        "sc.list_packages()"
      ],
      "id": "c43b6577",
      "execution_count": null,
      "outputs": [
        {
          "output_type": "display_data",
          "data": {
            "application/vnd.jupyter.widget-view+json": {
              "model_id": "3645f010752142d7a026ddbfaf0921a6",
              "version_major": 2,
              "version_minor": 0
            },
            "text/plain": [
              "VBox()"
            ]
          },
          "metadata": {
            "tags": []
          }
        },
        {
          "output_type": "display_data",
          "data": {
            "application/vnd.jupyter.widget-view+json": {
              "model_id": "",
              "version_major": 2,
              "version_minor": 0
            },
            "text/plain": [
              "FloatProgress(value=0.0, bar_style='info', description='Progress:', layout=Layout(height='25px', width='50%'),…"
            ]
          },
          "metadata": {
            "tags": []
          }
        },
        {
          "output_type": "stream",
          "text": [
            "Package                    Version  \n",
            "-------------------------- ---------\n",
            "beautifulsoup4             4.9.3    \n",
            "boto                       2.49.0   \n",
            "click                      7.1.2    \n",
            "jmespath                   0.10.0   \n",
            "joblib                     1.0.1    \n",
            "lxml                       4.6.2    \n",
            "mysqlclient                1.4.2    \n",
            "nltk                       3.5      \n",
            "nose                       1.3.4    \n",
            "numpy                      1.16.5   \n",
            "pip                        9.0.1    \n",
            "py-dateutil                2.2      \n",
            "python37-sagemaker-pyspark 1.4.1    \n",
            "pytz                       2021.1   \n",
            "PyYAML                     5.4.1    \n",
            "regex                      2021.3.17\n",
            "setuptools                 28.8.0   \n",
            "six                        1.13.0   \n",
            "tqdm                       4.59.0   \n",
            "wheel                      0.29.0   \n",
            "windmill                   1.6"
          ],
          "name": "stdout"
        }
      ]
    },
    {
      "cell_type": "markdown",
      "metadata": {
        "id": "4ee80952"
      },
      "source": [
        "### Step 1: Scope the Project and Gather Data (Explore)\n",
        "\n",
        "#### Scope \n",
        "\n",
        "The aim of this project is to enrich the US I94 immigration data with data such as demographics and temperature to have wider understanding of the immigration patterns. We will be creating dimension tables and one fact table. The data fromI94 is aggregated by destination city and then joined with temperature data, resulting in the one fact table we want. Ultimately, we can query on the databse to check if temperature affects the destination city for immigration.\n",
        "\n",
        "#### Describe and Gather Data \n",
        "\n",
        "The I94 data which of the format SAS7BDAT(binary database storage format), is taken from [here](https://travel.trade.gov/research/reports/i94/historical/2016.html). \n",
        "\n",
        "World Temperature Data: This dataset came from Kaggle. You can read more about it [here](https://www.kaggle.com/berkeleyearth/climate-change-earth-surface-temperature-data).\n",
        "\n",
        "U.S. City Demographic Data: This data comes from OpenSoft. You can read more about it [here](https://public.opendatasoft.com/explore/dataset/us-cities-demographics/export/).\n",
        "\n",
        "Airport Code Table: This is a simple table of airport codes and corresponding cities. It comes from [here](https://datahub.io/core/airport-codes#data)."
      ],
      "id": "4ee80952"
    },
    {
      "cell_type": "code",
      "metadata": {
        "colab": {
          "referenced_widgets": [
            "c849733ec4cf4a4080e33654e000e012",
            ""
          ]
        },
        "id": "fc63ed3d",
        "outputId": "76ce64c0-2ebf-4cdf-ed34-e14804dda378"
      },
      "source": [
        "# True indicates, it can be null\n",
        "demographics_schema = StructType([\n",
        "    StructField('City', StringType(), True),\n",
        "    StructField('State', StringType(), True),\n",
        "    StructField('Median Age', DoubleType(), True),\n",
        "    StructField('Male Population', IntegerType(), True),\n",
        "    StructField('Female Population', IntegerType(), True),\n",
        "    StructField('Total Population', IntegerType(), True),\n",
        "    StructField('Number of Veterans', IntegerType(), True),\n",
        "    StructField('Foreign-born', IntegerType(), True),\n",
        "    StructField('Average Household Size', DoubleType(), True),\n",
        "    StructField('State Code', StringType(), True),\n",
        "    StructField('Race', StringType(), True),\n",
        "    StructField('Count', IntegerType(), True)\n",
        "])\n",
        "df_demographics = spark.read.csv(\"s3://capstonend/us-cities-demographics.csv\",\n",
        "                                 sep=\";\",\n",
        "                                 schema=demographics_schema,\n",
        "                                 header=True)"
      ],
      "id": "fc63ed3d",
      "execution_count": null,
      "outputs": [
        {
          "output_type": "display_data",
          "data": {
            "application/vnd.jupyter.widget-view+json": {
              "model_id": "c849733ec4cf4a4080e33654e000e012",
              "version_major": 2,
              "version_minor": 0
            },
            "text/plain": [
              "VBox()"
            ]
          },
          "metadata": {
            "tags": []
          }
        },
        {
          "output_type": "display_data",
          "data": {
            "application/vnd.jupyter.widget-view+json": {
              "model_id": "",
              "version_major": 2,
              "version_minor": 0
            },
            "text/plain": [
              "FloatProgress(value=0.0, bar_style='info', description='Progress:', layout=Layout(height='25px', width='50%'),…"
            ]
          },
          "metadata": {
            "tags": []
          }
        }
      ]
    },
    {
      "cell_type": "code",
      "metadata": {
        "colab": {
          "referenced_widgets": [
            "c91b3aa6030849a5b1739f8e3b74e4c7",
            ""
          ]
        },
        "id": "a8575717",
        "outputId": "56b8f1b3-2fe4-4ff3-ed4e-54e10c58d92b"
      },
      "source": [
        "# True indicates, it can be null\n",
        "temperature_schema = StructType([\n",
        "    StructField('dt', DateType(), True),\n",
        "    StructField('AverageTemperature', DoubleType(), True),\n",
        "    StructField('AverageTemperatureUncertainty', DoubleType(), True),\n",
        "    StructField('City', StringType(), True),\n",
        "    StructField('Country', StringType(), True),\n",
        "    StructField('Latitude', StringType(), True),\n",
        "    StructField('Longitude', StringType(), True)\n",
        "])\n",
        "#Temperature\n",
        "temperature = 's3://capstonend/GlobalLandTemperaturesByCity.csv'\n",
        "df_temperature = spark.read.csv(temperature,\n",
        "                                schema=temperature_schema,\n",
        "                                header=True)"
      ],
      "id": "a8575717",
      "execution_count": null,
      "outputs": [
        {
          "output_type": "display_data",
          "data": {
            "application/vnd.jupyter.widget-view+json": {
              "model_id": "c91b3aa6030849a5b1739f8e3b74e4c7",
              "version_major": 2,
              "version_minor": 0
            },
            "text/plain": [
              "VBox()"
            ]
          },
          "metadata": {
            "tags": []
          }
        },
        {
          "output_type": "display_data",
          "data": {
            "application/vnd.jupyter.widget-view+json": {
              "model_id": "",
              "version_major": 2,
              "version_minor": 0
            },
            "text/plain": [
              "FloatProgress(value=0.0, bar_style='info', description='Progress:', layout=Layout(height='25px', width='50%'),…"
            ]
          },
          "metadata": {
            "tags": []
          }
        }
      ]
    },
    {
      "cell_type": "code",
      "metadata": {
        "colab": {
          "referenced_widgets": [
            "e69bf088f7c74b188c5ff6bb940d0d9d",
            ""
          ]
        },
        "id": "7c52cc40",
        "outputId": "8164ef59-b4d0-45dd-bca5-6d52e1a341ec"
      },
      "source": [
        "# True indicates, it can be null\n",
        "airport_schema = StructType([\n",
        "    StructField('ident', StringType(), True),\n",
        "    StructField('type', StringType(), True),\n",
        "    StructField('name', StringType(), True),\n",
        "    StructField('elevation_ft', IntegerType(), True),\n",
        "    StructField('continent', StringType(), True),\n",
        "    StructField('iso_country', StringType(), True),\n",
        "    StructField('iso_region', StringType(), True),\n",
        "    StructField('municipality', StringType(), True),\n",
        "    StructField('gps_code', StringType(), True),\n",
        "    StructField('iata_code', StringType(), True),\n",
        "    StructField('local_code', StringType(), True),\n",
        "    StructField('coordinates', StringType(), True)\n",
        "])\n",
        "#Airport Codes\n",
        "df_airport_codes = spark.read.csv(\"s3://capstonend/airport-codes_csv.csv\",\n",
        "                                  schema=airport_schema,\n",
        "                                  header=True)"
      ],
      "id": "7c52cc40",
      "execution_count": null,
      "outputs": [
        {
          "output_type": "display_data",
          "data": {
            "application/vnd.jupyter.widget-view+json": {
              "model_id": "e69bf088f7c74b188c5ff6bb940d0d9d",
              "version_major": 2,
              "version_minor": 0
            },
            "text/plain": [
              "VBox()"
            ]
          },
          "metadata": {
            "tags": []
          }
        },
        {
          "output_type": "display_data",
          "data": {
            "application/vnd.jupyter.widget-view+json": {
              "model_id": "",
              "version_major": 2,
              "version_minor": 0
            },
            "text/plain": [
              "FloatProgress(value=0.0, bar_style='info', description='Progress:', layout=Layout(height='25px', width='50%'),…"
            ]
          },
          "metadata": {
            "tags": []
          }
        }
      ]
    },
    {
      "cell_type": "code",
      "metadata": {
        "colab": {
          "referenced_widgets": [
            "1a295353daff40cba63779ec404642ad",
            ""
          ]
        },
        "id": "17e8e76a",
        "outputId": "8398ba0d-9876-438f-b656-bec83ddb3540"
      },
      "source": [
        "immigration = 's3://capstonend/sas_data/'\n",
        "df_immigration = spark.read.parquet(immigration)"
      ],
      "id": "17e8e76a",
      "execution_count": null,
      "outputs": [
        {
          "output_type": "display_data",
          "data": {
            "application/vnd.jupyter.widget-view+json": {
              "model_id": "1a295353daff40cba63779ec404642ad",
              "version_major": 2,
              "version_minor": 0
            },
            "text/plain": [
              "VBox()"
            ]
          },
          "metadata": {
            "tags": []
          }
        },
        {
          "output_type": "display_data",
          "data": {
            "application/vnd.jupyter.widget-view+json": {
              "model_id": "",
              "version_major": 2,
              "version_minor": 0
            },
            "text/plain": [
              "FloatProgress(value=0.0, bar_style='info', description='Progress:', layout=Layout(height='25px', width='50%'),…"
            ]
          },
          "metadata": {
            "tags": []
          }
        }
      ]
    },
    {
      "cell_type": "code",
      "metadata": {
        "colab": {
          "referenced_widgets": [
            "cf3e6d9509ae42008d3bf3a4750e3c72",
            ""
          ]
        },
        "id": "32415391",
        "outputId": "9f2a5ec5-79bd-4506-fc45-cb9321f5f596"
      },
      "source": [
        "df_demographics.printSchema()"
      ],
      "id": "32415391",
      "execution_count": null,
      "outputs": [
        {
          "output_type": "display_data",
          "data": {
            "application/vnd.jupyter.widget-view+json": {
              "model_id": "cf3e6d9509ae42008d3bf3a4750e3c72",
              "version_major": 2,
              "version_minor": 0
            },
            "text/plain": [
              "VBox()"
            ]
          },
          "metadata": {
            "tags": []
          }
        },
        {
          "output_type": "display_data",
          "data": {
            "application/vnd.jupyter.widget-view+json": {
              "model_id": "",
              "version_major": 2,
              "version_minor": 0
            },
            "text/plain": [
              "FloatProgress(value=0.0, bar_style='info', description='Progress:', layout=Layout(height='25px', width='50%'),…"
            ]
          },
          "metadata": {
            "tags": []
          }
        },
        {
          "output_type": "stream",
          "text": [
            "root\n",
            " |-- City: string (nullable = true)\n",
            " |-- State: string (nullable = true)\n",
            " |-- Median Age: double (nullable = true)\n",
            " |-- Male Population: integer (nullable = true)\n",
            " |-- Female Population: integer (nullable = true)\n",
            " |-- Total Population: integer (nullable = true)\n",
            " |-- Number of Veterans: integer (nullable = true)\n",
            " |-- Foreign-born: integer (nullable = true)\n",
            " |-- Average Household Size: double (nullable = true)\n",
            " |-- State Code: string (nullable = true)\n",
            " |-- Race: string (nullable = true)\n",
            " |-- Count: integer (nullable = true)"
          ],
          "name": "stdout"
        }
      ]
    },
    {
      "cell_type": "code",
      "metadata": {
        "colab": {
          "referenced_widgets": [
            "de471f457fe144eaa39699e0ef6b3aea",
            ""
          ]
        },
        "id": "b8f4c1c3",
        "outputId": "1641e712-9c47-4ad0-b7bb-3cb8e9bfaaf5"
      },
      "source": [
        "df_demographics.show(2)"
      ],
      "id": "b8f4c1c3",
      "execution_count": null,
      "outputs": [
        {
          "output_type": "display_data",
          "data": {
            "application/vnd.jupyter.widget-view+json": {
              "model_id": "de471f457fe144eaa39699e0ef6b3aea",
              "version_major": 2,
              "version_minor": 0
            },
            "text/plain": [
              "VBox()"
            ]
          },
          "metadata": {
            "tags": []
          }
        },
        {
          "output_type": "display_data",
          "data": {
            "application/vnd.jupyter.widget-view+json": {
              "model_id": "",
              "version_major": 2,
              "version_minor": 0
            },
            "text/plain": [
              "FloatProgress(value=0.0, bar_style='info', description='Progress:', layout=Layout(height='25px', width='50%'),…"
            ]
          },
          "metadata": {
            "tags": []
          }
        },
        {
          "output_type": "stream",
          "text": [
            "+-------------+-------------+----------+---------------+-----------------+----------------+------------------+------------+----------------------+----------+------------------+-----+\n",
            "|         City|        State|Median Age|Male Population|Female Population|Total Population|Number of Veterans|Foreign-born|Average Household Size|State Code|              Race|Count|\n",
            "+-------------+-------------+----------+---------------+-----------------+----------------+------------------+------------+----------------------+----------+------------------+-----+\n",
            "|Silver Spring|     Maryland|      33.8|          40601|            41862|           82463|              1562|       30908|                   2.6|        MD|Hispanic or Latino|25924|\n",
            "|       Quincy|Massachusetts|      41.0|          44129|            49500|           93629|              4147|       32935|                  2.39|        MA|             White|58723|\n",
            "+-------------+-------------+----------+---------------+-----------------+----------------+------------------+------------+----------------------+----------+------------------+-----+\n",
            "only showing top 2 rows"
          ],
          "name": "stdout"
        }
      ]
    },
    {
      "cell_type": "code",
      "metadata": {
        "colab": {
          "referenced_widgets": [
            "e6e14954302d462aad7d4dc3d2b271c3",
            ""
          ]
        },
        "id": "0c505cb4",
        "outputId": "5e35f8b6-f44a-48ac-96ea-00e6de2efddc"
      },
      "source": [
        "df_temperature.printSchema()"
      ],
      "id": "0c505cb4",
      "execution_count": null,
      "outputs": [
        {
          "output_type": "display_data",
          "data": {
            "application/vnd.jupyter.widget-view+json": {
              "model_id": "e6e14954302d462aad7d4dc3d2b271c3",
              "version_major": 2,
              "version_minor": 0
            },
            "text/plain": [
              "VBox()"
            ]
          },
          "metadata": {
            "tags": []
          }
        },
        {
          "output_type": "display_data",
          "data": {
            "application/vnd.jupyter.widget-view+json": {
              "model_id": "",
              "version_major": 2,
              "version_minor": 0
            },
            "text/plain": [
              "FloatProgress(value=0.0, bar_style='info', description='Progress:', layout=Layout(height='25px', width='50%'),…"
            ]
          },
          "metadata": {
            "tags": []
          }
        },
        {
          "output_type": "stream",
          "text": [
            "root\n",
            " |-- dt: date (nullable = true)\n",
            " |-- AverageTemperature: double (nullable = true)\n",
            " |-- AverageTemperatureUncertainty: double (nullable = true)\n",
            " |-- City: string (nullable = true)\n",
            " |-- Country: string (nullable = true)\n",
            " |-- Latitude: string (nullable = true)\n",
            " |-- Longitude: string (nullable = true)"
          ],
          "name": "stdout"
        }
      ]
    },
    {
      "cell_type": "code",
      "metadata": {
        "colab": {
          "referenced_widgets": [
            "c2f98d639b7b453dbeb1876fc76b79e2",
            ""
          ]
        },
        "id": "549659e1",
        "outputId": "64b3c3cd-787a-446b-d8df-49960f17379c"
      },
      "source": [
        "df_temperature.show(2)"
      ],
      "id": "549659e1",
      "execution_count": null,
      "outputs": [
        {
          "output_type": "display_data",
          "data": {
            "application/vnd.jupyter.widget-view+json": {
              "model_id": "c2f98d639b7b453dbeb1876fc76b79e2",
              "version_major": 2,
              "version_minor": 0
            },
            "text/plain": [
              "VBox()"
            ]
          },
          "metadata": {
            "tags": []
          }
        },
        {
          "output_type": "display_data",
          "data": {
            "application/vnd.jupyter.widget-view+json": {
              "model_id": "",
              "version_major": 2,
              "version_minor": 0
            },
            "text/plain": [
              "FloatProgress(value=0.0, bar_style='info', description='Progress:', layout=Layout(height='25px', width='50%'),…"
            ]
          },
          "metadata": {
            "tags": []
          }
        },
        {
          "output_type": "stream",
          "text": [
            "+----------+------------------+-----------------------------+-----+-------+--------+---------+\n",
            "|        dt|AverageTemperature|AverageTemperatureUncertainty| City|Country|Latitude|Longitude|\n",
            "+----------+------------------+-----------------------------+-----+-------+--------+---------+\n",
            "|1743-11-01|             6.068|           1.7369999999999999|Århus|Denmark|  57.05N|   10.33E|\n",
            "|1743-12-01|              null|                         null|Århus|Denmark|  57.05N|   10.33E|\n",
            "+----------+------------------+-----------------------------+-----+-------+--------+---------+\n",
            "only showing top 2 rows"
          ],
          "name": "stdout"
        }
      ]
    },
    {
      "cell_type": "code",
      "metadata": {
        "colab": {
          "referenced_widgets": [
            "508181a30a39423ab7f28aeb286bf7d4",
            ""
          ]
        },
        "id": "651e3077",
        "outputId": "571edc4e-8288-4ccb-bf8d-5b38a27931d8"
      },
      "source": [
        "df_airport_codes.printSchema()"
      ],
      "id": "651e3077",
      "execution_count": null,
      "outputs": [
        {
          "output_type": "display_data",
          "data": {
            "application/vnd.jupyter.widget-view+json": {
              "model_id": "508181a30a39423ab7f28aeb286bf7d4",
              "version_major": 2,
              "version_minor": 0
            },
            "text/plain": [
              "VBox()"
            ]
          },
          "metadata": {
            "tags": []
          }
        },
        {
          "output_type": "display_data",
          "data": {
            "application/vnd.jupyter.widget-view+json": {
              "model_id": "",
              "version_major": 2,
              "version_minor": 0
            },
            "text/plain": [
              "FloatProgress(value=0.0, bar_style='info', description='Progress:', layout=Layout(height='25px', width='50%'),…"
            ]
          },
          "metadata": {
            "tags": []
          }
        },
        {
          "output_type": "stream",
          "text": [
            "root\n",
            " |-- ident: string (nullable = true)\n",
            " |-- type: string (nullable = true)\n",
            " |-- name: string (nullable = true)\n",
            " |-- elevation_ft: integer (nullable = true)\n",
            " |-- continent: string (nullable = true)\n",
            " |-- iso_country: string (nullable = true)\n",
            " |-- iso_region: string (nullable = true)\n",
            " |-- municipality: string (nullable = true)\n",
            " |-- gps_code: string (nullable = true)\n",
            " |-- iata_code: string (nullable = true)\n",
            " |-- local_code: string (nullable = true)\n",
            " |-- coordinates: string (nullable = true)"
          ],
          "name": "stdout"
        }
      ]
    },
    {
      "cell_type": "code",
      "metadata": {
        "colab": {
          "referenced_widgets": [
            "eb62c50728c04fcfa66d7d3f5e82910b",
            ""
          ]
        },
        "id": "08ef2f26",
        "outputId": "deb5b997-46e8-487a-9b9d-71dab843c3f9"
      },
      "source": [
        "df_airport_codes.show(2)"
      ],
      "id": "08ef2f26",
      "execution_count": null,
      "outputs": [
        {
          "output_type": "display_data",
          "data": {
            "application/vnd.jupyter.widget-view+json": {
              "model_id": "eb62c50728c04fcfa66d7d3f5e82910b",
              "version_major": 2,
              "version_minor": 0
            },
            "text/plain": [
              "VBox()"
            ]
          },
          "metadata": {
            "tags": []
          }
        },
        {
          "output_type": "display_data",
          "data": {
            "application/vnd.jupyter.widget-view+json": {
              "model_id": "",
              "version_major": 2,
              "version_minor": 0
            },
            "text/plain": [
              "FloatProgress(value=0.0, bar_style='info', description='Progress:', layout=Layout(height='25px', width='50%'),…"
            ]
          },
          "metadata": {
            "tags": []
          }
        },
        {
          "output_type": "stream",
          "text": [
            "+-----+-------------+--------------------+------------+---------+-----------+----------+------------+--------+---------+----------+--------------------+\n",
            "|ident|         type|                name|elevation_ft|continent|iso_country|iso_region|municipality|gps_code|iata_code|local_code|         coordinates|\n",
            "+-----+-------------+--------------------+------------+---------+-----------+----------+------------+--------+---------+----------+--------------------+\n",
            "|  00A|     heliport|   Total Rf Heliport|          11|       NA|         US|     US-PA|    Bensalem|     00A|     null|       00A|-74.9336013793945...|\n",
            "| 00AA|small_airport|Aero B Ranch Airport|        3435|       NA|         US|     US-KS|       Leoti|    00AA|     null|      00AA|-101.473911, 38.7...|\n",
            "+-----+-------------+--------------------+------------+---------+-----------+----------+------------+--------+---------+----------+--------------------+\n",
            "only showing top 2 rows"
          ],
          "name": "stdout"
        }
      ]
    },
    {
      "cell_type": "code",
      "metadata": {
        "colab": {
          "referenced_widgets": [
            "f073d3852db6434a89eef47570e7dbcc",
            ""
          ]
        },
        "id": "562545c0",
        "outputId": "55a9b2d6-39de-4427-f933-3e5d786c19d7"
      },
      "source": [
        "df_immigration.printSchema()"
      ],
      "id": "562545c0",
      "execution_count": null,
      "outputs": [
        {
          "output_type": "display_data",
          "data": {
            "application/vnd.jupyter.widget-view+json": {
              "model_id": "f073d3852db6434a89eef47570e7dbcc",
              "version_major": 2,
              "version_minor": 0
            },
            "text/plain": [
              "VBox()"
            ]
          },
          "metadata": {
            "tags": []
          }
        },
        {
          "output_type": "display_data",
          "data": {
            "application/vnd.jupyter.widget-view+json": {
              "model_id": "",
              "version_major": 2,
              "version_minor": 0
            },
            "text/plain": [
              "FloatProgress(value=0.0, bar_style='info', description='Progress:', layout=Layout(height='25px', width='50%'),…"
            ]
          },
          "metadata": {
            "tags": []
          }
        },
        {
          "output_type": "stream",
          "text": [
            "root\n",
            " |-- cicid: double (nullable = true)\n",
            " |-- i94yr: double (nullable = true)\n",
            " |-- i94mon: double (nullable = true)\n",
            " |-- i94cit: double (nullable = true)\n",
            " |-- i94res: double (nullable = true)\n",
            " |-- i94port: string (nullable = true)\n",
            " |-- arrdate: double (nullable = true)\n",
            " |-- i94mode: double (nullable = true)\n",
            " |-- i94addr: string (nullable = true)\n",
            " |-- depdate: double (nullable = true)\n",
            " |-- i94bir: double (nullable = true)\n",
            " |-- i94visa: double (nullable = true)\n",
            " |-- count: double (nullable = true)\n",
            " |-- dtadfile: string (nullable = true)\n",
            " |-- visapost: string (nullable = true)\n",
            " |-- occup: string (nullable = true)\n",
            " |-- entdepa: string (nullable = true)\n",
            " |-- entdepd: string (nullable = true)\n",
            " |-- entdepu: string (nullable = true)\n",
            " |-- matflag: string (nullable = true)\n",
            " |-- biryear: double (nullable = true)\n",
            " |-- dtaddto: string (nullable = true)\n",
            " |-- gender: string (nullable = true)\n",
            " |-- insnum: string (nullable = true)\n",
            " |-- airline: string (nullable = true)\n",
            " |-- admnum: double (nullable = true)\n",
            " |-- fltno: string (nullable = true)\n",
            " |-- visatype: string (nullable = true)"
          ],
          "name": "stdout"
        }
      ]
    },
    {
      "cell_type": "code",
      "metadata": {
        "colab": {
          "referenced_widgets": [
            "965089ecd8474632a8e762fa8de4bc0d",
            ""
          ]
        },
        "id": "5a05b348",
        "outputId": "9e890d94-40dd-4a84-ed1a-670dc6ee3df6"
      },
      "source": [
        "df_immigration.show(2)"
      ],
      "id": "5a05b348",
      "execution_count": null,
      "outputs": [
        {
          "output_type": "display_data",
          "data": {
            "application/vnd.jupyter.widget-view+json": {
              "model_id": "965089ecd8474632a8e762fa8de4bc0d",
              "version_major": 2,
              "version_minor": 0
            },
            "text/plain": [
              "VBox()"
            ]
          },
          "metadata": {
            "tags": []
          }
        },
        {
          "output_type": "display_data",
          "data": {
            "application/vnd.jupyter.widget-view+json": {
              "model_id": "",
              "version_major": 2,
              "version_minor": 0
            },
            "text/plain": [
              "FloatProgress(value=0.0, bar_style='info', description='Progress:', layout=Layout(height='25px', width='50%'),…"
            ]
          },
          "metadata": {
            "tags": []
          }
        },
        {
          "output_type": "stream",
          "text": [
            "+---------+------+------+------+------+-------+-------+-------+-------+-------+------+-------+-----+--------+--------+-----+-------+-------+-------+-------+-------+--------+------+------+-------+---------------+-----+--------+\n",
            "|    cicid| i94yr|i94mon|i94cit|i94res|i94port|arrdate|i94mode|i94addr|depdate|i94bir|i94visa|count|dtadfile|visapost|occup|entdepa|entdepd|entdepu|matflag|biryear| dtaddto|gender|insnum|airline|         admnum|fltno|visatype|\n",
            "+---------+------+------+------+------+-------+-------+-------+-------+-------+------+-------+-----+--------+--------+-----+-------+-------+-------+-------+-------+--------+------+------+-------+---------------+-----+--------+\n",
            "|1817663.0|2016.0|   4.0| 148.0| 131.0|    SFR|20554.0|    1.0|     CA|20560.0|  23.0|    2.0|  1.0|20160410|    null| null|      G|      O|   null|      M| 1993.0|07082016|     F|  null|     LX|5.5960415633E10|00038|      WT|\n",
            "|1817664.0|2016.0|   4.0| 148.0| 131.0|    SFR|20554.0|    1.0|     CA|20561.0|  29.0|    1.0|  1.0|20160410|    null| null|      G|      O|   null|      M| 1987.0|07082016|     M|  null|     LX|5.5960341333E10|00038|      WB|\n",
            "+---------+------+------+------+------+-------+-------+-------+-------+-------+------+-------+-----+--------+--------+-----+-------+-------+-------+-------+-------+--------+------+------+-------+---------------+-----+--------+\n",
            "only showing top 2 rows"
          ],
          "name": "stdout"
        }
      ]
    },
    {
      "cell_type": "markdown",
      "metadata": {
        "id": "38ce8e27"
      },
      "source": [
        "## Cleaning (Transform)"
      ],
      "id": "38ce8e27"
    },
    {
      "cell_type": "code",
      "metadata": {
        "colab": {
          "referenced_widgets": [
            "10284e7078144def98f7b8a58fa5fafb",
            ""
          ]
        },
        "id": "e009a0e0",
        "outputId": "3e87f943-649c-46ba-b95e-0eaf1d204a86"
      },
      "source": [
        "df_demographics = df_demographics.dropna()"
      ],
      "id": "e009a0e0",
      "execution_count": null,
      "outputs": [
        {
          "output_type": "display_data",
          "data": {
            "application/vnd.jupyter.widget-view+json": {
              "model_id": "10284e7078144def98f7b8a58fa5fafb",
              "version_major": 2,
              "version_minor": 0
            },
            "text/plain": [
              "VBox()"
            ]
          },
          "metadata": {
            "tags": []
          }
        },
        {
          "output_type": "display_data",
          "data": {
            "application/vnd.jupyter.widget-view+json": {
              "model_id": "",
              "version_major": 2,
              "version_minor": 0
            },
            "text/plain": [
              "FloatProgress(value=0.0, bar_style='info', description='Progress:', layout=Layout(height='25px', width='50%'),…"
            ]
          },
          "metadata": {
            "tags": []
          }
        }
      ]
    },
    {
      "cell_type": "markdown",
      "metadata": {
        "id": "a2e3cf33"
      },
      "source": [
        "Temperature Data - We will drop all data points where AverageTemperature is NaN, duplicate locations, and add the i94port of the location in each entry."
      ],
      "id": "a2e3cf33"
    },
    {
      "cell_type": "code",
      "metadata": {
        "colab": {
          "referenced_widgets": [
            "398fc903317140b9bea284644695096f",
            ""
          ]
        },
        "id": "3c9d829a",
        "outputId": "99669575-733d-4cd9-bf88-bf7671212f31"
      },
      "source": [
        "# df_temperature = df_temperature.dropna()\n",
        "\n",
        "# Filter out data points with NaN average temperature\n",
        "df_temperature = df_temperature.filter(\n",
        "    df_temperature.AverageTemperature != 'NaN')\n",
        "df_temperature = df_temperature.dropDuplicates(['City', 'Country'])"
      ],
      "id": "3c9d829a",
      "execution_count": null,
      "outputs": [
        {
          "output_type": "display_data",
          "data": {
            "application/vnd.jupyter.widget-view+json": {
              "model_id": "398fc903317140b9bea284644695096f",
              "version_major": 2,
              "version_minor": 0
            },
            "text/plain": [
              "VBox()"
            ]
          },
          "metadata": {
            "tags": []
          }
        },
        {
          "output_type": "display_data",
          "data": {
            "application/vnd.jupyter.widget-view+json": {
              "model_id": "",
              "version_major": 2,
              "version_minor": 0
            },
            "text/plain": [
              "FloatProgress(value=0.0, bar_style='info', description='Progress:', layout=Layout(height='25px', width='50%'),…"
            ]
          },
          "metadata": {
            "tags": []
          }
        }
      ]
    },
    {
      "cell_type": "code",
      "metadata": {
        "colab": {
          "referenced_widgets": [
            "6110e2c5cd694afea11ff5b8de7d365d",
            ""
          ]
        },
        "id": "c5d03d7b",
        "outputId": "cd1f4610-4bf4-45f6-9457-59da6c480ed0"
      },
      "source": [
        "sc.install_pypi_package(\"boto3\")"
      ],
      "id": "c5d03d7b",
      "execution_count": null,
      "outputs": [
        {
          "output_type": "display_data",
          "data": {
            "application/vnd.jupyter.widget-view+json": {
              "model_id": "6110e2c5cd694afea11ff5b8de7d365d",
              "version_major": 2,
              "version_minor": 0
            },
            "text/plain": [
              "VBox()"
            ]
          },
          "metadata": {
            "tags": []
          }
        },
        {
          "output_type": "display_data",
          "data": {
            "application/vnd.jupyter.widget-view+json": {
              "model_id": "",
              "version_major": 2,
              "version_minor": 0
            },
            "text/plain": [
              "FloatProgress(value=0.0, bar_style='info', description='Progress:', layout=Layout(height='25px', width='50%'),…"
            ]
          },
          "metadata": {
            "tags": []
          }
        },
        {
          "output_type": "stream",
          "text": [
            "Collecting boto3\n",
            "  Downloading https://files.pythonhosted.org/packages/2c/e1/2c6c374f043c3f22829563b7fb2bf28fe3dca7ce5994bc5ceeff0959d6c9/boto3-1.17.105-py2.py3-none-any.whl (131kB)\n",
            "Collecting s3transfer<0.5.0,>=0.4.0 (from boto3)\n",
            "  Downloading https://files.pythonhosted.org/packages/63/d0/693477c688348654ddc21dcdce0817653a294aa43f41771084c25e7ff9c7/s3transfer-0.4.2-py2.py3-none-any.whl (79kB)\n",
            "Requirement already satisfied: jmespath<1.0.0,>=0.7.1 in /usr/local/lib/python3.7/site-packages (from boto3)\n",
            "Collecting botocore<1.21.0,>=1.20.105 (from boto3)\n",
            "  Downloading https://files.pythonhosted.org/packages/95/da/3417300f85ba5173e8dba9248b9ae8bcb74a8aac1c92fa3d257f99073b9e/botocore-1.20.105-py2.py3-none-any.whl (7.7MB)\n",
            "Collecting urllib3<1.27,>=1.25.4 (from botocore<1.21.0,>=1.20.105->boto3)\n",
            "  Downloading https://files.pythonhosted.org/packages/5f/64/43575537846896abac0b15c3e5ac678d787a4021e906703f1766bfb8ea11/urllib3-1.26.6-py2.py3-none-any.whl (138kB)\n",
            "Collecting python-dateutil<3.0.0,>=2.1 (from botocore<1.21.0,>=1.20.105->boto3)\n",
            "  Downloading https://files.pythonhosted.org/packages/d4/70/d60450c3dd48ef87586924207ae8907090de0b306af2bce5d134d78615cb/python_dateutil-2.8.1-py2.py3-none-any.whl (227kB)\n",
            "Requirement already satisfied: six>=1.5 in /usr/local/lib/python3.7/site-packages (from python-dateutil<3.0.0,>=2.1->botocore<1.21.0,>=1.20.105->boto3)\n",
            "Installing collected packages: urllib3, python-dateutil, botocore, s3transfer, boto3\n",
            "Successfully installed boto3-1.17.105 botocore-1.20.105 python-dateutil-2.8.1 s3transfer-0.4.2 urllib3-1.26.6"
          ],
          "name": "stdout"
        }
      ]
    },
    {
      "cell_type": "markdown",
      "metadata": {
        "id": "7bd4e0ed"
      },
      "source": [
        "*I94 immigration data* - We wil drop all data points with the destination city code i94port is not a valid value (XXX, 99, NaN, etc). This is described in I94_SAS_Labels_Description.SAS"
      ],
      "id": "7bd4e0ed"
    },
    {
      "cell_type": "code",
      "metadata": {
        "colab": {
          "referenced_widgets": [
            "a1866326d7324caf8e20eae2972cfbf1",
            ""
          ]
        },
        "id": "39b45b9b",
        "outputId": "724c6287-0ba4-4f15-eb03-c3730e66fee0"
      },
      "source": [
        "import boto3\n",
        "\n",
        "s3 = boto3.resource('s3')\n",
        "bucket = 'capstonend'\n",
        "bucket = s3.Bucket(bucket)\n",
        "file = bucket.objects.all()\n",
        "for f in file:\n",
        "    if f.key == 'i94port_valid.txt':\n",
        "        print(f.key)\n",
        "        txt = f.get()['Body'].read()\n",
        "lines = str(txt).split('\\\\n')"
      ],
      "id": "39b45b9b",
      "execution_count": null,
      "outputs": [
        {
          "output_type": "display_data",
          "data": {
            "application/vnd.jupyter.widget-view+json": {
              "model_id": "a1866326d7324caf8e20eae2972cfbf1",
              "version_major": 2,
              "version_minor": 0
            },
            "text/plain": [
              "VBox()"
            ]
          },
          "metadata": {
            "tags": []
          }
        },
        {
          "output_type": "display_data",
          "data": {
            "application/vnd.jupyter.widget-view+json": {
              "model_id": "",
              "version_major": 2,
              "version_minor": 0
            },
            "text/plain": [
              "FloatProgress(value=0.0, bar_style='info', description='Progress:', layout=Layout(height='25px', width='50%'),…"
            ]
          },
          "metadata": {
            "tags": []
          }
        },
        {
          "output_type": "stream",
          "text": [
            "i94port_valid.txt"
          ],
          "name": "stdout"
        }
      ]
    },
    {
      "cell_type": "code",
      "metadata": {
        "colab": {
          "referenced_widgets": [
            "5c3fa636df554fc59c29af377cac1d53",
            ""
          ]
        },
        "id": "27f7c298",
        "outputId": "666fe1ee-f11f-4a95-8ba2-54fae649baf1"
      },
      "source": [
        "# Create dictionary of valid i94port codes\n",
        "re_obj = re.compile(r'\\'(.*)\\'.*\\'(.*)\\'')\n",
        "i94port_valid = {}\n",
        "for line in lines:\n",
        "    match = re_obj.search(line)\n",
        "    i94port_valid[match[1]] = [match[2].strip()]"
      ],
      "id": "27f7c298",
      "execution_count": null,
      "outputs": [
        {
          "output_type": "display_data",
          "data": {
            "application/vnd.jupyter.widget-view+json": {
              "model_id": "5c3fa636df554fc59c29af377cac1d53",
              "version_major": 2,
              "version_minor": 0
            },
            "text/plain": [
              "VBox()"
            ]
          },
          "metadata": {
            "tags": []
          }
        },
        {
          "output_type": "display_data",
          "data": {
            "application/vnd.jupyter.widget-view+json": {
              "model_id": "",
              "version_major": 2,
              "version_minor": 0
            },
            "text/plain": [
              "FloatProgress(value=0.0, bar_style='info', description='Progress:', layout=Layout(height='25px', width='50%'),…"
            ]
          },
          "metadata": {
            "tags": []
          }
        }
      ]
    },
    {
      "cell_type": "code",
      "metadata": {
        "colab": {
          "referenced_widgets": [
            "e834cf8b50314d0abac007955be0d11b",
            ""
          ]
        },
        "id": "b401bdc4",
        "outputId": "009ef241-e64d-485d-a669-faf86f65eba5"
      },
      "source": [
        "#print(i94port_valid)"
      ],
      "id": "b401bdc4",
      "execution_count": null,
      "outputs": [
        {
          "output_type": "display_data",
          "data": {
            "application/vnd.jupyter.widget-view+json": {
              "model_id": "e834cf8b50314d0abac007955be0d11b",
              "version_major": 2,
              "version_minor": 0
            },
            "text/plain": [
              "VBox()"
            ]
          },
          "metadata": {
            "tags": []
          }
        },
        {
          "output_type": "display_data",
          "data": {
            "application/vnd.jupyter.widget-view+json": {
              "model_id": "",
              "version_major": 2,
              "version_minor": 0
            },
            "text/plain": [
              "FloatProgress(value=0.0, bar_style='info', description='Progress:', layout=Layout(height='25px', width='50%'),…"
            ]
          },
          "metadata": {
            "tags": []
          }
        }
      ]
    },
    {
      "cell_type": "code",
      "metadata": {
        "colab": {
          "referenced_widgets": [
            "93b1bf73b6b048c5b02983119309cd76",
            ""
          ]
        },
        "id": "4023a763",
        "outputId": "57116587-f9d7-46ad-99d4-aac1321b3dca"
      },
      "source": [
        "# Clean I94 immigration data\n",
        "def clean_i94_data(file):\n",
        "    '''    \n",
        "    Input: Path to I94 immigration data file\n",
        "    Output: Spark dataframe of I94 immigration data with valid i94port\n",
        "    '''\n",
        "    global df_immigration\n",
        "    # Filter out entries where i94port is invalid\n",
        "    df_immigration = df_immigration.filter(\n",
        "        df_immigration.i94port.isin(list(i94port_valid.keys())))\n",
        "    return df_immigration"
      ],
      "id": "4023a763",
      "execution_count": null,
      "outputs": [
        {
          "output_type": "display_data",
          "data": {
            "application/vnd.jupyter.widget-view+json": {
              "model_id": "93b1bf73b6b048c5b02983119309cd76",
              "version_major": 2,
              "version_minor": 0
            },
            "text/plain": [
              "VBox()"
            ]
          },
          "metadata": {
            "tags": []
          }
        },
        {
          "output_type": "display_data",
          "data": {
            "application/vnd.jupyter.widget-view+json": {
              "model_id": "",
              "version_major": 2,
              "version_minor": 0
            },
            "text/plain": [
              "FloatProgress(value=0.0, bar_style='info', description='Progress:', layout=Layout(height='25px', width='50%'),…"
            ]
          },
          "metadata": {
            "tags": []
          }
        }
      ]
    },
    {
      "cell_type": "code",
      "metadata": {
        "colab": {
          "referenced_widgets": [
            "13a187d7a8ca45aa8a44bdf02d888ad2",
            ""
          ]
        },
        "id": "6fb25756",
        "outputId": "e2190140-bab0-40df-cdc5-795ef20b1569"
      },
      "source": [
        "df_immigration = clean_i94_data(df_immigration)"
      ],
      "id": "6fb25756",
      "execution_count": null,
      "outputs": [
        {
          "output_type": "display_data",
          "data": {
            "application/vnd.jupyter.widget-view+json": {
              "model_id": "13a187d7a8ca45aa8a44bdf02d888ad2",
              "version_major": 2,
              "version_minor": 0
            },
            "text/plain": [
              "VBox()"
            ]
          },
          "metadata": {
            "tags": []
          }
        },
        {
          "output_type": "display_data",
          "data": {
            "application/vnd.jupyter.widget-view+json": {
              "model_id": "",
              "version_major": 2,
              "version_minor": 0
            },
            "text/plain": [
              "FloatProgress(value=0.0, bar_style='info', description='Progress:', layout=Layout(height='25px', width='50%'),…"
            ]
          },
          "metadata": {
            "tags": []
          }
        }
      ]
    },
    {
      "cell_type": "code",
      "metadata": {
        "colab": {
          "referenced_widgets": [
            "aebcd2abc65a4d069254223a44c622b9",
            ""
          ]
        },
        "id": "77a36f16",
        "outputId": "10d6359f-8c33-4584-fb0d-f055fce9f4ce"
      },
      "source": [
        "df_immigration.show()"
      ],
      "id": "77a36f16",
      "execution_count": null,
      "outputs": [
        {
          "output_type": "display_data",
          "data": {
            "application/vnd.jupyter.widget-view+json": {
              "model_id": "aebcd2abc65a4d069254223a44c622b9",
              "version_major": 2,
              "version_minor": 0
            },
            "text/plain": [
              "VBox()"
            ]
          },
          "metadata": {
            "tags": []
          }
        },
        {
          "output_type": "display_data",
          "data": {
            "application/vnd.jupyter.widget-view+json": {
              "model_id": "",
              "version_major": 2,
              "version_minor": 0
            },
            "text/plain": [
              "FloatProgress(value=0.0, bar_style='info', description='Progress:', layout=Layout(height='25px', width='50%'),…"
            ]
          },
          "metadata": {
            "tags": []
          }
        },
        {
          "output_type": "stream",
          "text": [
            "+-----+------+------+------+------+-------+-------+-------+-------+-------+------+-------+-----+--------+--------+-----+-------+-------+-------+-------+-------+--------+------+------+-------+--------------+-----+--------+\n",
            "|cicid| i94yr|i94mon|i94cit|i94res|i94port|arrdate|i94mode|i94addr|depdate|i94bir|i94visa|count|dtadfile|visapost|occup|entdepa|entdepd|entdepu|matflag|biryear| dtaddto|gender|insnum|airline|        admnum|fltno|visatype|\n",
            "+-----+------+------+------+------+-------+-------+-------+-------+-------+------+-------+-----+--------+--------+-----+-------+-------+-------+-------+-------+--------+------+------+-------+--------------+-----+--------+\n",
            "|  7.0|2016.0|   4.0| 254.0| 276.0|    ATL|20551.0|    1.0|     AL|   null|  25.0|    3.0|  1.0|20130811|     SEO| null|      G|   null|      Y|   null| 1991.0|     D/S|     M|  null|   null|  3.73679633E9|00296|      F1|\n",
            "| 15.0|2016.0|   4.0| 101.0| 101.0|    WAS|20545.0|    1.0|     MI|20691.0|  55.0|    2.0|  1.0|20160401|    null| null|      T|      O|   null|      M| 1961.0|09302016|     M|  null|     OS|  6.66643185E8|   93|      B2|\n",
            "| 16.0|2016.0|   4.0| 101.0| 101.0|    NYC|20545.0|    1.0|     MA|20567.0|  28.0|    2.0|  1.0|20160401|    null| null|      O|      O|   null|      M| 1988.0|09302016|  null|  null|     AA|9.246846133E10|00199|      B2|\n",
            "| 17.0|2016.0|   4.0| 101.0| 101.0|    NYC|20545.0|    1.0|     MA|20567.0|   4.0|    2.0|  1.0|20160401|    null| null|      O|      O|   null|      M| 2012.0|09302016|  null|  null|     AA|9.246846313E10|00199|      B2|\n",
            "| 18.0|2016.0|   4.0| 101.0| 101.0|    NYC|20545.0|    1.0|     MI|20555.0|  57.0|    1.0|  1.0|20160401|    null| null|      O|      O|   null|      M| 1959.0|09302016|  null|  null|     AZ|9.247103803E10|00602|      B1|\n",
            "| 19.0|2016.0|   4.0| 101.0| 101.0|    NYC|20545.0|    1.0|     NJ|20558.0|  63.0|    2.0|  1.0|20160401|    null| null|      O|      K|   null|      M| 1953.0|09302016|  null|  null|     AZ|9.247139923E10|00602|      B2|\n",
            "| 20.0|2016.0|   4.0| 101.0| 101.0|    NYC|20545.0|    1.0|     NJ|20558.0|  57.0|    2.0|  1.0|20160401|    null| null|      O|      K|   null|      M| 1959.0|09302016|  null|  null|     AZ|9.247161383E10|00602|      B2|\n",
            "| 21.0|2016.0|   4.0| 101.0| 101.0|    NYC|20545.0|    1.0|     NY|20553.0|  46.0|    2.0|  1.0|20160401|    null| null|      O|      O|   null|      M| 1970.0|09302016|  null|  null|     AZ|9.247079603E10|00602|      B2|\n",
            "| 22.0|2016.0|   4.0| 101.0| 101.0|    NYC|20545.0|    1.0|     NY|20562.0|  48.0|    1.0|  1.0|20160401|    null| null|      O|      O|   null|      M| 1968.0|09302016|  null|  null|     AZ|9.247848973E10|00608|      B1|\n",
            "| 23.0|2016.0|   4.0| 101.0| 101.0|    NYC|20545.0|    1.0|     NY|20671.0|  52.0|    2.0|  1.0|20160401|    null| null|      O|      O|   null|      M| 1964.0|09302016|  null|  null|     TK|9.250139443E10|00001|      B2|\n",
            "| 24.0|2016.0|   4.0| 101.0| 101.0|    TOR|20545.0|    1.0|     MO|20554.0|  33.0|    2.0|  1.0|20160401|    null| null|      O|      O|   null|      M| 1983.0|09302016|  null|  null|     MQ|9.249090503E10|03348|      B2|\n",
            "| 27.0|2016.0|   4.0| 101.0| 101.0|    BOS|20545.0|    1.0|     MA|20549.0|  58.0|    1.0|  1.0|20160401|     TIA| null|      G|      O|   null|      M| 1958.0|04062016|     M|  null|     LH|9.247876383E10|00422|      B1|\n",
            "| 28.0|2016.0|   4.0| 101.0| 101.0|    ATL|20545.0|    1.0|     MA|20549.0|  56.0|    1.0|  1.0|20160401|     TIA| null|      G|      O|   null|      M| 1960.0|04062016|     F|  null|     LH|9.247890033E10|00422|      B1|\n",
            "| 29.0|2016.0|   4.0| 101.0| 101.0|    ATL|20545.0|    1.0|     MA|20561.0|  62.0|    2.0|  1.0|20160401|     TIA| null|      G|      O|   null|      M| 1954.0|09302016|     M|  null|     AZ|9.250378143E10|00614|      B2|\n",
            "| 30.0|2016.0|   4.0| 101.0| 101.0|    ATL|20545.0|    1.0|     NJ|20578.0|  49.0|    2.0|  1.0|20160401|     TIA| null|      G|      O|   null|      M| 1967.0|09302016|     M|  null|     OS|9.247020943E10|00089|      B2|\n",
            "| 31.0|2016.0|   4.0| 101.0| 101.0|    ATL|20545.0|    1.0|     NY|20611.0|  43.0|    2.0|  1.0|20160401|     TIA| null|      G|      O|   null|      M| 1973.0|09302016|     M|  null|     OS|9.247128923E10|00089|      B2|\n",
            "| 33.0|2016.0|   4.0| 101.0| 101.0|    HOU|20545.0|    1.0|     TX|20554.0|  53.0|    2.0|  1.0|20160401|     TIA| null|      G|      O|   null|      M| 1963.0|09302016|     F|  null|     TK|9.250930163E10|00033|      B2|\n",
            "| 34.0|2016.0|   4.0| 101.0| 101.0|    NYC|20545.0|    1.0|     CT|   null|  48.0|    2.0|  1.0|20160401|     TIA| null|      G|   null|   null|   null| 1968.0|09302016|     M|  null|     AZ|9.247042023E10|00602|      B2|\n",
            "| 35.0|2016.0|   4.0| 101.0| 101.0|    NYC|20545.0|    1.0|     CT|   null|  74.0|    2.0|  1.0|20160401|     TIA| null|      T|   null|   null|   null| 1942.0|09302016|     F|  null|     TK|  6.69712185E8|    1|      B2|\n",
            "| 36.0|2016.0|   4.0| 101.0| 101.0|    NYC|20545.0|    1.0|     NJ|20561.0|  37.0|    2.0|  1.0|20160401|     TIA| null|      G|      O|   null|      M| 1979.0|09302016|     M|  null|     TK|9.250625823E10|00001|      B2|\n",
            "+-----+------+------+------+------+-------+-------+-------+-------+-------+------+-------+-----+--------+--------+-----+-------+-------+-------+-------+-------+--------+------+------+-------+--------------+-----+--------+\n",
            "only showing top 20 rows"
          ],
          "name": "stdout"
        }
      ]
    },
    {
      "cell_type": "code",
      "metadata": {
        "colab": {
          "referenced_widgets": [
            "660d9a3f0363437ebc681b97443ac1a3",
            ""
          ]
        },
        "id": "7d226da8",
        "outputId": "b887eff1-116f-4e02-ea83-a3444e1f664c"
      },
      "source": [
        "@udf()\n",
        "def get_i94port(city):\n",
        "    '''\n",
        "    Input: City name\n",
        "    Output: Corresponding i94port\n",
        "    \n",
        "    '''\n",
        "    for key in i94port_valid:\n",
        "        if city and city.lower() in i94port_valid[key][0].lower():\n",
        "            return key"
      ],
      "id": "7d226da8",
      "execution_count": null,
      "outputs": [
        {
          "output_type": "display_data",
          "data": {
            "application/vnd.jupyter.widget-view+json": {
              "model_id": "660d9a3f0363437ebc681b97443ac1a3",
              "version_major": 2,
              "version_minor": 0
            },
            "text/plain": [
              "VBox()"
            ]
          },
          "metadata": {
            "tags": []
          }
        },
        {
          "output_type": "display_data",
          "data": {
            "application/vnd.jupyter.widget-view+json": {
              "model_id": "",
              "version_major": 2,
              "version_minor": 0
            },
            "text/plain": [
              "FloatProgress(value=0.0, bar_style='info', description='Progress:', layout=Layout(height='25px', width='50%'),…"
            ]
          },
          "metadata": {
            "tags": []
          }
        }
      ]
    },
    {
      "cell_type": "code",
      "metadata": {
        "colab": {
          "referenced_widgets": [
            "9d7bddc4b01a4de9b181fced25a47284",
            ""
          ]
        },
        "id": "587bd3c2",
        "outputId": "f63fade0-3910-4d5a-8046-d81675b5b20c"
      },
      "source": [
        "# Add iport94 code based on city name, helps in joins\n",
        "df_temperature = df_temperature.withColumn(\"i94port\",\n",
        "                                           get_i94port(df_temperature.City))"
      ],
      "id": "587bd3c2",
      "execution_count": null,
      "outputs": [
        {
          "output_type": "display_data",
          "data": {
            "application/vnd.jupyter.widget-view+json": {
              "model_id": "9d7bddc4b01a4de9b181fced25a47284",
              "version_major": 2,
              "version_minor": 0
            },
            "text/plain": [
              "VBox()"
            ]
          },
          "metadata": {
            "tags": []
          }
        },
        {
          "output_type": "display_data",
          "data": {
            "application/vnd.jupyter.widget-view+json": {
              "model_id": "",
              "version_major": 2,
              "version_minor": 0
            },
            "text/plain": [
              "FloatProgress(value=0.0, bar_style='info', description='Progress:', layout=Layout(height='25px', width='50%'),…"
            ]
          },
          "metadata": {
            "tags": []
          }
        }
      ]
    },
    {
      "cell_type": "code",
      "metadata": {
        "colab": {
          "referenced_widgets": [
            "2e2f5cd97c5f4afe900a39dabd01a885",
            ""
          ]
        },
        "id": "3d595bb3",
        "outputId": "8699721d-a734-4413-c291-3b6bcbddafc9"
      },
      "source": [
        "# Remove data points with no iport94 code\n",
        "df_temperature = df_temperature.filter(df_temperature.i94port != 'null')\n",
        "df_temperature.show()"
      ],
      "id": "3d595bb3",
      "execution_count": null,
      "outputs": [
        {
          "output_type": "display_data",
          "data": {
            "application/vnd.jupyter.widget-view+json": {
              "model_id": "2e2f5cd97c5f4afe900a39dabd01a885",
              "version_major": 2,
              "version_minor": 0
            },
            "text/plain": [
              "VBox()"
            ]
          },
          "metadata": {
            "tags": []
          }
        },
        {
          "output_type": "display_data",
          "data": {
            "application/vnd.jupyter.widget-view+json": {
              "model_id": "",
              "version_major": 2,
              "version_minor": 0
            },
            "text/plain": [
              "FloatProgress(value=0.0, bar_style='info', description='Progress:', layout=Layout(height='25px', width='50%'),…"
            ]
          },
          "metadata": {
            "tags": []
          }
        },
        {
          "output_type": "stream",
          "text": [
            "+----------+------------------+-----------------------------+----------------+--------------+--------+---------+-------+\n",
            "|        dt|AverageTemperature|AverageTemperatureUncertainty|            City|       Country|Latitude|Longitude|i94port|\n",
            "+----------+------------------+-----------------------------+----------------+--------------+--------+---------+-------+\n",
            "|1824-01-01|            25.229|                        1.094|           Anaco|     Venezuela|   8.84N|   64.05W|    ANA|\n",
            "|1820-01-01|              9.89|           3.8819999999999997|  Corpus Christi| United States|  28.13N|   97.27W|    CRP|\n",
            "|1855-05-01|            10.468|                        1.598|     Los Angeles|         Chile|  37.78S|   73.22W|    LOS|\n",
            "|1825-01-01|            14.028|                        2.821|       Monterrey|        Mexico|  26.52N|  100.30W|    MTY|\n",
            "|1743-11-01|             3.264|                        1.665|          Newark| United States|  40.99N|   74.56W|    NEW|\n",
            "|1852-07-01|            15.488|                        1.395|           Perth|     Australia|  31.35S|  114.97E|    PER|\n",
            "|1857-01-01|18.581000000000003|           1.8119999999999998|         Springs|  South Africa|  26.52S|   28.66E|    PSP|\n",
            "|1743-11-01|             5.371|                        1.578|      Bridgeport| United States|  40.99N|   72.43W|    BGC|\n",
            "|1775-04-01|7.0200000000000005|           2.3040000000000003|Colorado Springs| United States|  39.38N|  104.05W|    COS|\n",
            "|1856-01-01|26.055999999999997|           1.3769999999999998|             Ila|       Nigeria|   7.23N|    5.68E|    YIP|\n",
            "|1825-05-01|            20.481|                        1.778|          Juarez|        Mexico|  31.35N|  105.55W|    LLB|\n",
            "|1845-01-01|             2.377|                        2.006|             Ome|         Japan|  36.17N|  139.23E|    HOM|\n",
            "|1832-01-01|23.819000000000003|                        1.766|      Rio Grande|        Brazil|  31.35S|   52.77W|    RIO|\n",
            "|1743-11-01|            18.664|                        2.349|           Tampa| United States|  28.13N|   82.73W|    TAM|\n",
            "|1775-04-01|7.0200000000000005|           2.3040000000000003|          Denver| United States|  39.38N|  104.05W|    DEN|\n",
            "|1825-05-01|            20.481|                        1.778|         El Paso| United States|  31.35N|  105.55W|    ELP|\n",
            "|1820-01-01|3.2930000000000006|                        3.278|      Fort Worth| United States|  32.95N|   96.70W|    AFW|\n",
            "|1820-08-01|            19.649|                        2.319|            Hami|         China|  42.59N|   93.82E|    HML|\n",
            "|1820-01-01| 8.046000000000001|                        3.739|         Houston| United States|  29.74N|   96.00W|    HOU|\n",
            "|1743-11-01|             6.678|                         1.81|      Manchester|United Kingdom|  53.84N|    1.36W|    MHT|\n",
            "+----------+------------------+-----------------------------+----------------+--------------+--------+---------+-------+\n",
            "only showing top 20 rows"
          ],
          "name": "stdout"
        }
      ]
    },
    {
      "cell_type": "code",
      "metadata": {
        "colab": {
          "referenced_widgets": [
            "95539f612f8645e2b5959499595e7d56",
            ""
          ]
        },
        "id": "40e74152",
        "outputId": "a5b4d336-7472-4dfe-97b6-917e68f720f7"
      },
      "source": [
        "df_airport_codes = df_airport_codes.dropna()"
      ],
      "id": "40e74152",
      "execution_count": null,
      "outputs": [
        {
          "output_type": "display_data",
          "data": {
            "application/vnd.jupyter.widget-view+json": {
              "model_id": "95539f612f8645e2b5959499595e7d56",
              "version_major": 2,
              "version_minor": 0
            },
            "text/plain": [
              "VBox()"
            ]
          },
          "metadata": {
            "tags": []
          }
        },
        {
          "output_type": "display_data",
          "data": {
            "application/vnd.jupyter.widget-view+json": {
              "model_id": "",
              "version_major": 2,
              "version_minor": 0
            },
            "text/plain": [
              "FloatProgress(value=0.0, bar_style='info', description='Progress:', layout=Layout(height='25px', width='50%'),…"
            ]
          },
          "metadata": {
            "tags": []
          }
        }
      ]
    },
    {
      "cell_type": "code",
      "metadata": {
        "colab": {
          "referenced_widgets": [
            "a0b2a26808a940bda3ce3891bc940360",
            ""
          ]
        },
        "id": "35dc5e38",
        "outputId": "ec584793-0cd3-4bba-a705-84ec2784b9ba"
      },
      "source": [
        "df_temperature.count()"
      ],
      "id": "35dc5e38",
      "execution_count": null,
      "outputs": [
        {
          "output_type": "display_data",
          "data": {
            "application/vnd.jupyter.widget-view+json": {
              "model_id": "a0b2a26808a940bda3ce3891bc940360",
              "version_major": 2,
              "version_minor": 0
            },
            "text/plain": [
              "VBox()"
            ]
          },
          "metadata": {
            "tags": []
          }
        },
        {
          "output_type": "display_data",
          "data": {
            "application/vnd.jupyter.widget-view+json": {
              "model_id": "",
              "version_major": 2,
              "version_minor": 0
            },
            "text/plain": [
              "FloatProgress(value=0.0, bar_style='info', description='Progress:', layout=Layout(height='25px', width='50%'),…"
            ]
          },
          "metadata": {
            "tags": []
          }
        },
        {
          "output_type": "stream",
          "text": [
            "207"
          ],
          "name": "stdout"
        }
      ]
    },
    {
      "cell_type": "code",
      "metadata": {
        "colab": {
          "referenced_widgets": [
            "8905a828da764e748e28cbd64750d2de",
            ""
          ]
        },
        "id": "00ad8686",
        "outputId": "3517a2cf-cecd-4278-cf3c-9b5c54592bee"
      },
      "source": [
        "df_temperature = df_temperature.filter(\n",
        "    df_temperature.Country == 'United States')\n",
        "df_temperature.count()"
      ],
      "id": "00ad8686",
      "execution_count": null,
      "outputs": [
        {
          "output_type": "display_data",
          "data": {
            "application/vnd.jupyter.widget-view+json": {
              "model_id": "8905a828da764e748e28cbd64750d2de",
              "version_major": 2,
              "version_minor": 0
            },
            "text/plain": [
              "VBox()"
            ]
          },
          "metadata": {
            "tags": []
          }
        },
        {
          "output_type": "display_data",
          "data": {
            "application/vnd.jupyter.widget-view+json": {
              "model_id": "",
              "version_major": 2,
              "version_minor": 0
            },
            "text/plain": [
              "FloatProgress(value=0.0, bar_style='info', description='Progress:', layout=Layout(height='25px', width='50%'),…"
            ]
          },
          "metadata": {
            "tags": []
          }
        },
        {
          "output_type": "stream",
          "text": [
            "112"
          ],
          "name": "stdout"
        }
      ]
    },
    {
      "cell_type": "markdown",
      "metadata": {
        "id": "f9490f93"
      },
      "source": [
        "## Define the Data Model (Load)\n",
        "\n",
        "Fact Table - This will contain information from the I94 immigration data joined with the city temperature data on i94port\n",
        "Columns:\n",
        "i94yr = year, i94mon = numeric month, i94cit = 3 digit code of origin city, i94port = 3 character code of destination city, arrdate = arrival date, i94mode = 1 digit travel code, depdate = departure date, i94visa = reason for immigration, AverageTemperature = average temperature of destination city\n",
        "\n",
        "Dimension Tables - df_immigration, df_temperature\n",
        "\n",
        "df_immigration:-\n",
        "i94yr = year, i94mon = numeric month, i94cit = 3 digit code of origin city, i94port = 3 character code of destination city, arrdate = arrival date, i94mode = 1 digit travel code, depdate = departure date, i94visa = reason for immigration\n",
        "\n",
        "df_temperature:-\n",
        "i94port = code of destination city (mapped from cleaned up immigration data), AverageTemperature = average temperature, City = city name, Country = country name, Latitude= latitude, Longitude = longitude"
      ],
      "id": "f9490f93"
    },
    {
      "cell_type": "code",
      "metadata": {
        "colab": {
          "referenced_widgets": [
            "4484e4a958bf4451a500ad395818ff18",
            ""
          ]
        },
        "id": "f9e2a7f4",
        "outputId": "f98f6c58-f25e-4a84-b6f7-27192a625c82"
      },
      "source": [
        "# Immigration, extract and save\n",
        "immigration_table = df_immigration.select([\n",
        "    \"i94yr\", \"i94mon\", \"i94cit\", \"i94port\", \"arrdate\", \"i94mode\", \"depdate\",\n",
        "    \"i94visa\"\n",
        "])\n",
        "immigration_table.write.mode(\"append\").partitionBy(\"i94port\").parquet(\n",
        "    \"immigration.parquet\")"
      ],
      "id": "f9e2a7f4",
      "execution_count": null,
      "outputs": [
        {
          "output_type": "display_data",
          "data": {
            "application/vnd.jupyter.widget-view+json": {
              "model_id": "4484e4a958bf4451a500ad395818ff18",
              "version_major": 2,
              "version_minor": 0
            },
            "text/plain": [
              "VBox()"
            ]
          },
          "metadata": {
            "tags": []
          }
        },
        {
          "output_type": "display_data",
          "data": {
            "application/vnd.jupyter.widget-view+json": {
              "model_id": "",
              "version_major": 2,
              "version_minor": 0
            },
            "text/plain": [
              "FloatProgress(value=0.0, bar_style='info', description='Progress:', layout=Layout(height='25px', width='50%'),…"
            ]
          },
          "metadata": {
            "tags": []
          }
        }
      ]
    },
    {
      "cell_type": "code",
      "metadata": {
        "colab": {
          "referenced_widgets": [
            "6d703c9bfe7442e08b9dcc3089a34eb4",
            ""
          ]
        },
        "id": "d418f592",
        "outputId": "d1f42720-69aa-42ab-d966-c119902188b1"
      },
      "source": [
        "# Temperature\n",
        "temp_table = df_temperature.select([\n",
        "    \"AverageTemperature\", \"City\", \"Country\", \"Latitude\", \"Longitude\", \"i94port\"\n",
        "])\n",
        "temp_table.write.mode(\"append\").partitionBy(\"i94port\").parquet(\n",
        "    \"temperature.parquet\")"
      ],
      "id": "d418f592",
      "execution_count": null,
      "outputs": [
        {
          "output_type": "display_data",
          "data": {
            "application/vnd.jupyter.widget-view+json": {
              "model_id": "6d703c9bfe7442e08b9dcc3089a34eb4",
              "version_major": 2,
              "version_minor": 0
            },
            "text/plain": [
              "VBox()"
            ]
          },
          "metadata": {
            "tags": []
          }
        },
        {
          "output_type": "display_data",
          "data": {
            "application/vnd.jupyter.widget-view+json": {
              "model_id": "",
              "version_major": 2,
              "version_minor": 0
            },
            "text/plain": [
              "FloatProgress(value=0.0, bar_style='info', description='Progress:', layout=Layout(height='25px', width='50%'),…"
            ]
          },
          "metadata": {
            "tags": []
          }
        }
      ]
    },
    {
      "cell_type": "code",
      "metadata": {
        "colab": {
          "referenced_widgets": [
            "0c3436a5001945b8b0e9f6c8f70017f8",
            ""
          ]
        },
        "id": "f3363051",
        "outputId": "ed278a82-c9f8-463b-f370-9bec6789a77a"
      },
      "source": [
        "df_demographics = df_demographics.withColumnRenamed(\n",
        "    'State Code', 'State_Code').withColumnRenamed(\n",
        "        'Male Population', 'Male_Population').withColumnRenamed(\n",
        "            'Female Population', 'Female_Population').withColumnRenamed(\n",
        "                'Total Population', 'Total_Population').withColumnRenamed(\n",
        "                    'Number of Veterans',\n",
        "                    'Number_of_Veterans').withColumnRenamed(\n",
        "                        'Average Household Size',\n",
        "                        'Average_Household_Size').withColumnRenamed('Median Age', 'Median_Age')\n",
        "df_demographics.write.mode(\"append\").parquet(\"demographics.parquet\")"
      ],
      "id": "f3363051",
      "execution_count": null,
      "outputs": [
        {
          "output_type": "display_data",
          "data": {
            "application/vnd.jupyter.widget-view+json": {
              "model_id": "0c3436a5001945b8b0e9f6c8f70017f8",
              "version_major": 2,
              "version_minor": 0
            },
            "text/plain": [
              "VBox()"
            ]
          },
          "metadata": {
            "tags": []
          }
        },
        {
          "output_type": "display_data",
          "data": {
            "application/vnd.jupyter.widget-view+json": {
              "model_id": "",
              "version_major": 2,
              "version_minor": 0
            },
            "text/plain": [
              "FloatProgress(value=0.0, bar_style='info', description='Progress:', layout=Layout(height='25px', width='50%'),…"
            ]
          },
          "metadata": {
            "tags": []
          }
        }
      ]
    },
    {
      "cell_type": "code",
      "metadata": {
        "colab": {
          "referenced_widgets": [
            "97cec394f6f64138ab96cab4f827b2cb",
            ""
          ]
        },
        "id": "b93e9c41",
        "outputId": "1c176dd4-104a-4ed1-f999-1ccfc155cdd0"
      },
      "source": [
        "# For fact table, create views to use sql for easy join\n",
        "df_immigration.createOrReplaceTempView(\"immigration_view\")\n",
        "df_temperature.createOrReplaceTempView(\"temp_view\")\n",
        "\n",
        "# Create the fact table by joining the immigration and temperature views\n",
        "fact_table = spark.sql('''\n",
        "SELECT immigration_view.i94yr as year,\n",
        "       immigration_view.i94mon as month,\n",
        "       immigration_view.i94cit as city,\n",
        "       immigration_view.i94port as i94port,\n",
        "       immigration_view.arrdate as arrival_date,\n",
        "       immigration_view.depdate as departure_date,\n",
        "       immigration_view.i94visa as reason,\n",
        "       temp_view.AverageTemperature as temperature,\n",
        "       temp_view.Latitude as latitude,\n",
        "       temp_view.Longitude as longitude\n",
        "FROM immigration_view\n",
        "JOIN temp_view ON (immigration_view.i94port = temp_view.i94port)\n",
        "''')\n",
        "fact_table.write.mode(\"append\").partitionBy(\"i94port\").parquet(\n",
        "    \"fact_table.parquet\")"
      ],
      "id": "b93e9c41",
      "execution_count": null,
      "outputs": [
        {
          "output_type": "display_data",
          "data": {
            "application/vnd.jupyter.widget-view+json": {
              "model_id": "97cec394f6f64138ab96cab4f827b2cb",
              "version_major": 2,
              "version_minor": 0
            },
            "text/plain": [
              "VBox()"
            ]
          },
          "metadata": {
            "tags": []
          }
        },
        {
          "output_type": "display_data",
          "data": {
            "application/vnd.jupyter.widget-view+json": {
              "model_id": "",
              "version_major": 2,
              "version_minor": 0
            },
            "text/plain": [
              "FloatProgress(value=0.0, bar_style='info', description='Progress:', layout=Layout(height='25px', width='50%'),…"
            ]
          },
          "metadata": {
            "tags": []
          }
        }
      ]
    },
    {
      "cell_type": "markdown",
      "metadata": {
        "id": "63ee3ccc"
      },
      "source": [
        "## Quality Checks"
      ],
      "id": "63ee3ccc"
    },
    {
      "cell_type": "code",
      "metadata": {
        "id": "zf7DUd_NfkRS"
      },
      "source": [
        "def quality_checks(table,name_):\n",
        "  '''\n",
        "  Input: table, and name of the table\n",
        "  Output: Print statement to check if the table passed the quality checks \n",
        "  '''\n",
        "  c = table.count()\n",
        "  if c > 0:\n",
        "    print(f'No. of rows in {name_} is {c}')\n",
        "  else:\n",
        "    print(f'Data quality check failed for {name_}')"
      ],
      "id": "zf7DUd_NfkRS",
      "execution_count": null,
      "outputs": []
    },
    {
      "cell_type": "code",
      "metadata": {
        "colab": {
          "referenced_widgets": [
            "f3d829d6f20f4470b72f702c3f6fee98",
            ""
          ]
        },
        "id": "b84f0d50",
        "outputId": "c905073e-c63a-48a6-ea80-6f92f2ec4148"
      },
      "source": [
        "quality_checks(df_immigration,'df_immigration')"
      ],
      "id": "b84f0d50",
      "execution_count": null,
      "outputs": [
        {
          "output_type": "display_data",
          "data": {
            "application/vnd.jupyter.widget-view+json": {
              "model_id": "f3d829d6f20f4470b72f702c3f6fee98",
              "version_major": 2,
              "version_minor": 0
            },
            "text/plain": [
              "VBox()"
            ]
          },
          "metadata": {
            "tags": []
          }
        },
        {
          "output_type": "display_data",
          "data": {
            "application/vnd.jupyter.widget-view+json": {
              "model_id": "",
              "version_major": 2,
              "version_minor": 0
            },
            "text/plain": [
              "FloatProgress(value=0.0, bar_style='info', description='Progress:', layout=Layout(height='25px', width='50%'),…"
            ]
          },
          "metadata": {
            "tags": []
          }
        },
        {
          "output_type": "stream",
          "text": [
            "'No. of rows in df_immigration is 3088544'"
          ],
          "name": "stdout"
        }
      ]
    },
    {
      "cell_type": "code",
      "metadata": {
        "colab": {
          "referenced_widgets": [
            "357fd8210f46437fa3b1c5098b95334e",
            ""
          ]
        },
        "id": "04d2d14a",
        "outputId": "3bed52e8-b807-4185-8c73-7f2b76c40094"
      },
      "source": [
        "quality_checks(df_temperature,'df_temperature')"
      ],
      "id": "04d2d14a",
      "execution_count": null,
      "outputs": [
        {
          "output_type": "display_data",
          "data": {
            "application/vnd.jupyter.widget-view+json": {
              "model_id": "357fd8210f46437fa3b1c5098b95334e",
              "version_major": 2,
              "version_minor": 0
            },
            "text/plain": [
              "VBox()"
            ]
          },
          "metadata": {
            "tags": []
          }
        },
        {
          "output_type": "display_data",
          "data": {
            "application/vnd.jupyter.widget-view+json": {
              "model_id": "",
              "version_major": 2,
              "version_minor": 0
            },
            "text/plain": [
              "FloatProgress(value=0.0, bar_style='info', description='Progress:', layout=Layout(height='25px', width='50%'),…"
            ]
          },
          "metadata": {
            "tags": []
          }
        },
        {
          "output_type": "stream",
          "text": [
            "'No. of rows in df_temperature is 112'"
          ],
          "name": "stdout"
        }
      ]
    },
    {
      "cell_type": "code",
      "metadata": {
        "colab": {
          "referenced_widgets": [
            "c2a82c000d03407989a03bb30d5e9b63",
            ""
          ]
        },
        "id": "d065840b",
        "outputId": "e90b7fff-c28a-415a-c5b2-0725ff3d61f5"
      },
      "source": [
        "quality_checks(df_demographics,'df_demographics')"
      ],
      "id": "d065840b",
      "execution_count": null,
      "outputs": [
        {
          "output_type": "display_data",
          "data": {
            "application/vnd.jupyter.widget-view+json": {
              "model_id": "c2a82c000d03407989a03bb30d5e9b63",
              "version_major": 2,
              "version_minor": 0
            },
            "text/plain": [
              "VBox()"
            ]
          },
          "metadata": {
            "tags": []
          }
        },
        {
          "output_type": "display_data",
          "data": {
            "application/vnd.jupyter.widget-view+json": {
              "model_id": "",
              "version_major": 2,
              "version_minor": 0
            },
            "text/plain": [
              "FloatProgress(value=0.0, bar_style='info', description='Progress:', layout=Layout(height='25px', width='50%'),…"
            ]
          },
          "metadata": {
            "tags": []
          }
        },
        {
          "output_type": "stream",
          "text": [
            "'No. of rows in df_demographics is 2875'"
          ],
          "name": "stdout"
        }
      ]
    },
    {
      "cell_type": "code",
      "metadata": {
        "colab": {
          "referenced_widgets": [
            "7ae34dea6a0d41bf8a5b03c8f9bc9dcf",
            ""
          ]
        },
        "id": "af912526",
        "outputId": "b2bc1647-9f45-4c1f-8248-45c934825d17"
      },
      "source": [
        "quality_checks(fact_table,'fact_table')"
      ],
      "id": "af912526",
      "execution_count": null,
      "outputs": [
        {
          "output_type": "display_data",
          "data": {
            "application/vnd.jupyter.widget-view+json": {
              "model_id": "7ae34dea6a0d41bf8a5b03c8f9bc9dcf",
              "version_major": 2,
              "version_minor": 0
            },
            "text/plain": [
              "VBox()"
            ]
          },
          "metadata": {
            "tags": []
          }
        },
        {
          "output_type": "display_data",
          "data": {
            "application/vnd.jupyter.widget-view+json": {
              "model_id": "",
              "version_major": 2,
              "version_minor": 0
            },
            "text/plain": [
              "FloatProgress(value=0.0, bar_style='info', description='Progress:', layout=Layout(height='25px', width='50%'),…"
            ]
          },
          "metadata": {
            "tags": []
          }
        },
        {
          "output_type": "stream",
          "text": [
            "'No. of rows in fact_table is 2568134'"
          ],
          "name": "stdout"
        }
      ]
    },
    {
      "cell_type": "code",
      "metadata": {
        "jupyter": {
          "source_hidden": true
        },
        "colab": {
          "referenced_widgets": [
            "4044ade30fea4e218e9e0bdb05822930",
            ""
          ]
        },
        "id": "0e434748",
        "outputId": "22f79162-10ac-4257-b096-3cb60716cf07"
      },
      "source": [
        "# Add iport94 code based on city name\n",
        "df_temperature = df_temperature.withColumn(\"i94port\",\n",
        "                                           get_i94port(df_temperature.City))\n",
        "# Remove data points with no iport94 code\n",
        "df_temperature = df_temperature.filter(df_temperature.i94port != 'null')"
      ],
      "id": "0e434748",
      "execution_count": null,
      "outputs": [
        {
          "output_type": "display_data",
          "data": {
            "application/vnd.jupyter.widget-view+json": {
              "model_id": "4044ade30fea4e218e9e0bdb05822930",
              "version_major": 2,
              "version_minor": 0
            },
            "text/plain": [
              "VBox()"
            ]
          },
          "metadata": {
            "tags": []
          }
        },
        {
          "output_type": "display_data",
          "data": {
            "application/vnd.jupyter.widget-view+json": {
              "model_id": "",
              "version_major": 2,
              "version_minor": 0
            },
            "text/plain": [
              "FloatProgress(value=0.0, bar_style='info', description='Progress:', layout=Layout(height='25px', width='50%'),…"
            ]
          },
          "metadata": {
            "tags": []
          }
        }
      ]
    },
    {
      "cell_type": "markdown",
      "metadata": {
        "id": "5bec15a0"
      },
      "source": [
        "In this project, we used Spark since it can easily handle multiple file formats (parquet, csv, text) that contain large amounts of data. Spark SQL was used form fact table.\n",
        "\n",
        "Since, files update monthly, we can create airflow pipeline to run monthly if needed."
      ],
      "id": "5bec15a0"
    },
    {
      "cell_type": "code",
      "metadata": {
        "id": "703322e3"
      },
      "source": [
        ""
      ],
      "id": "703322e3",
      "execution_count": null,
      "outputs": []
    }
  ]
}
