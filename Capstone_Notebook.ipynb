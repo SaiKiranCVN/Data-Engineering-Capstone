{
 "cells": [
  {
   "cell_type": "markdown",
   "metadata": {
    "id": "a123676e"
   },
   "source": [
    "# Project Title\n",
    "\n",
    "## Data Engineering Capstone Project\n",
    "\n",
    "Project Summary\n",
    "\n",
    "### The project follows the follow steps:\n",
    "\n",
    "* Step 1: Scope the Project and Gather Data\n",
    "* Step 2: Explore and Assess the Data\n",
    "* Step 3: Define the Data Model\n",
    "* Step 4: Run ETL to Model the Data\n",
    "* Step 5: Complete Project Write Up"
   ]
  },
  {
   "cell_type": "code",
   "execution_count": 1,
   "metadata": {
    "colab": {
     "referenced_widgets": [
      "3cb1c5a457d7453c90c8cf5c41f7dd04",
      ""
     ]
    },
    "id": "d7d3bd01",
    "outputId": "892722fa-7aa6-4196-ed0f-6c874a9e9502"
   },
   "outputs": [],
   "source": [
    "# import pandas as pd\n",
    "import re\n",
    "# import psycopg2  # For postgres\n",
    "from collections import defaultdict\n",
    "from datetime import datetime, timedelta\n",
    "from pyspark.sql import SparkSession\n",
    "from pyspark.sql.functions import udf  # For pyspark\n",
    "from pyspark.sql.types import *\n",
    "from pyspark.sql.functions import *"
   ]
  },
  {
   "cell_type": "code",
   "execution_count": 2,
   "metadata": {},
   "outputs": [],
   "source": [
    "spark = SparkSession.builder.master(\"local[*]\").getOrCreate()"
   ]
  },
  {
   "cell_type": "code",
   "execution_count": 3,
   "metadata": {
    "colab": {
     "referenced_widgets": [
      "16aabfcde8fb443ba88c1eb05e9e2ee5",
      ""
     ]
    },
    "id": "fee1adb4",
    "outputId": "8c348baf-af66-4009-efdc-43082ac59fda"
   },
   "outputs": [],
   "source": [
    "#Installs\n",
    "#sc.install_pypi_package(\"pandas\")\n",
    "#sc.install_pypi_package(\"boto3\")\n",
    "#sc.install_pypi_package(\"psycopg2\")\n",
    "# sc.install_pypi_package(\"numpy==1.17.3\")\n",
    "#sc.install_pypi_package(\"smart_open\")"
   ]
  },
  {
   "cell_type": "code",
   "execution_count": null,
   "metadata": {
    "colab": {
     "referenced_widgets": [
      "3645f010752142d7a026ddbfaf0921a6",
      ""
     ]
    },
    "id": "c43b6577",
    "outputId": "81ca563a-d471-4577-aff1-2e6653661d61"
   },
   "outputs": [
    {
     "data": {
      "application/vnd.jupyter.widget-view+json": {
       "model_id": "3645f010752142d7a026ddbfaf0921a6",
       "version_major": 2,
       "version_minor": 0
      },
      "text/plain": [
       "VBox()"
      ]
     },
     "metadata": {
      "tags": []
     },
     "output_type": "display_data"
    },
    {
     "data": {
      "application/vnd.jupyter.widget-view+json": {
       "model_id": "",
       "version_major": 2,
       "version_minor": 0
      },
      "text/plain": [
       "FloatProgress(value=0.0, bar_style='info', description='Progress:', layout=Layout(height='25px', width='50%'),…"
      ]
     },
     "metadata": {
      "tags": []
     },
     "output_type": "display_data"
    },
    {
     "name": "stdout",
     "output_type": "stream",
     "text": [
      "Package                    Version  \n",
      "-------------------------- ---------\n",
      "beautifulsoup4             4.9.3    \n",
      "boto                       2.49.0   \n",
      "click                      7.1.2    \n",
      "jmespath                   0.10.0   \n",
      "joblib                     1.0.1    \n",
      "lxml                       4.6.2    \n",
      "mysqlclient                1.4.2    \n",
      "nltk                       3.5      \n",
      "nose                       1.3.4    \n",
      "numpy                      1.16.5   \n",
      "pip                        9.0.1    \n",
      "py-dateutil                2.2      \n",
      "python37-sagemaker-pyspark 1.4.1    \n",
      "pytz                       2021.1   \n",
      "PyYAML                     5.4.1    \n",
      "regex                      2021.3.17\n",
      "setuptools                 28.8.0   \n",
      "six                        1.13.0   \n",
      "tqdm                       4.59.0   \n",
      "wheel                      0.29.0   \n",
      "windmill                   1.6"
     ]
    }
   ],
   "source": [
    "sc.list_packages() # For AWS EMR"
   ]
  },
  {
   "cell_type": "markdown",
   "metadata": {
    "id": "4ee80952"
   },
   "source": [
    "### Step 1: Scope the Project and Gather Data (Explore)\n",
    "\n",
    "#### Scope \n",
    "\n",
    "The aim of this project is to enrich the US I94 immigration data with data such as demographics and temperature to have wider understanding of the immigration patterns. We will be creating dimension tables and one fact table. The data fromI94 is aggregated by destination city and then joined with temperature data, resulting in the one fact table we want. Ultimately, we can query on the databse to check if temperature affects the destination city for immigration.\n",
    "\n",
    "#### Describe and Gather Data \n",
    "\n",
    "The I94 data which of the format SAS7BDAT(binary database storage format), is taken from [here](https://travel.trade.gov/research/reports/i94/historical/2016.html). \n",
    "\n",
    "World Temperature Data: This dataset came from Kaggle. You can read more about it [here](https://www.kaggle.com/berkeleyearth/climate-change-earth-surface-temperature-data).\n",
    "\n",
    "U.S. City Demographic Data: This data comes from OpenSoft. You can read more about it [here](https://public.opendatasoft.com/explore/dataset/us-cities-demographics/export/).\n",
    "\n",
    "Airport Code Table: This is a simple table of airport codes and corresponding cities. It comes from [here](https://datahub.io/core/airport-codes#data)."
   ]
  },
  {
   "cell_type": "code",
   "execution_count": 4,
   "metadata": {},
   "outputs": [],
   "source": [
    "awsAccessKeyId = 'xxxxxx'\n",
    "awsSecretAccessKey = 'xxxxxxx'"
   ]
  },
  {
   "cell_type": "code",
   "execution_count": 5,
   "metadata": {},
   "outputs": [],
   "source": [
    "spark._jsc.hadoopConfiguration().set(\"fs.s3n.awsAccessKeyId\", awsAccessKeyId)\n",
    "spark._jsc.hadoopConfiguration().set(\"fs.s3n.awsSecretAccessKey\", awsSecretAccessKey)\n",
    "spark._jsc.hadoopConfiguration().set(\"fs.s3n.impl\", \"org.apache.hadoop.fs.s3native.NativeS3FileSystem\")\n",
    "spark._jsc.hadoopConfiguration().set(\"fs.s3a.impl\",\"org.apache.hadoop.fs.s3a.S3AFileSystem\")\n",
    "spark._jsc.hadoopConfiguration().set(\"com.amazonaws.services.s3.enableV4\", \"true\")\n",
    "spark._jsc.hadoopConfiguration().set(\"fs.s3a.aws.credentials.provider\",\"org.apache.hadoop.fs.s3a.BasicAWSCredentialsProvider\")\n",
    "spark._jsc.hadoopConfiguration().set(\"fs.s3a.endpoint\", \"us-east-1.amazonaws.com\")"
   ]
  },
  {
   "cell_type": "code",
   "execution_count": 6,
   "metadata": {
    "colab": {
     "referenced_widgets": [
      "c849733ec4cf4a4080e33654e000e012",
      ""
     ]
    },
    "id": "fc63ed3d",
    "outputId": "76ce64c0-2ebf-4cdf-ed34-e14804dda378"
   },
   "outputs": [],
   "source": [
    "# True indicates, it can be null\n",
    "demographics_schema = StructType([\n",
    "    StructField('City', StringType(), True),\n",
    "    StructField('State', StringType(), True),\n",
    "    StructField('Median Age', DoubleType(), True),\n",
    "    StructField('Male Population', IntegerType(), True),\n",
    "    StructField('Female Population', IntegerType(), True),\n",
    "    StructField('Total Population', IntegerType(), True),\n",
    "    StructField('Number of Veterans', IntegerType(), True),\n",
    "    StructField('Foreign-born', IntegerType(), True),\n",
    "    StructField('Average Household Size', DoubleType(), True),\n",
    "    StructField('State Code', StringType(), True),\n",
    "    StructField('Race', StringType(), True),\n",
    "    StructField('Count', IntegerType(), True)\n",
    "])\n",
    "#s3://capstonend/us-cities-demographics.csv\n",
    "df_demographics = spark.read.csv(\"Capstone/us-cities-demographics.csv\",\n",
    "                                 sep=\";\",\n",
    "                                 schema=demographics_schema,\n",
    "                                 header=True)"
   ]
  },
  {
   "cell_type": "code",
   "execution_count": 7,
   "metadata": {
    "colab": {
     "referenced_widgets": [
      "c91b3aa6030849a5b1739f8e3b74e4c7",
      ""
     ]
    },
    "id": "a8575717",
    "outputId": "56b8f1b3-2fe4-4ff3-ed4e-54e10c58d92b"
   },
   "outputs": [],
   "source": [
    "# True indicates, it can be null\n",
    "temperature_schema = StructType([\n",
    "    StructField('dt', DateType(), True),\n",
    "    StructField('AverageTemperature', DoubleType(), True),\n",
    "    StructField('AverageTemperatureUncertainty', DoubleType(), True),\n",
    "    StructField('City', StringType(), True),\n",
    "    StructField('Country', StringType(), True),\n",
    "    StructField('Latitude', StringType(), True),\n",
    "    StructField('Longitude', StringType(), True)\n",
    "])\n",
    "#Temperature\n",
    "#s3://capstonend/GlobalLandTemperaturesByCity.csv\n",
    "temperature = 'Capstone/GlobalLandTemperaturesByCity.csv'\n",
    "df_temperature = spark.read.csv(temperature,\n",
    "                                schema=temperature_schema,\n",
    "                                header=True)"
   ]
  },
  {
   "cell_type": "code",
   "execution_count": 8,
   "metadata": {
    "colab": {
     "referenced_widgets": [
      "e69bf088f7c74b188c5ff6bb940d0d9d",
      ""
     ]
    },
    "id": "7c52cc40",
    "outputId": "8164ef59-b4d0-45dd-bca5-6d52e1a341ec"
   },
   "outputs": [],
   "source": [
    "# True indicates, it can be null\n",
    "airport_schema = StructType([\n",
    "    StructField('ident', StringType(), True),\n",
    "    StructField('type', StringType(), True),\n",
    "    StructField('name', StringType(), True),\n",
    "    StructField('elevation_ft', IntegerType(), True),\n",
    "    StructField('continent', StringType(), True),\n",
    "    StructField('iso_country', StringType(), True),\n",
    "    StructField('iso_region', StringType(), True),\n",
    "    StructField('municipality', StringType(), True),\n",
    "    StructField('gps_code', StringType(), True),\n",
    "    StructField('iata_code', StringType(), True),\n",
    "    StructField('local_code', StringType(), True),\n",
    "    StructField('coordinates', StringType(), True)\n",
    "])\n",
    "#Airport Codes\n",
    "#s3://capstonend/airport-codes_csv.csv\n",
    "df_airport_codes = spark.read.csv(\"Capstone/airport-codes_csv.csv\",\n",
    "                                  schema=airport_schema,\n",
    "                                  header=True)"
   ]
  },
  {
   "cell_type": "code",
   "execution_count": 9,
   "metadata": {
    "colab": {
     "referenced_widgets": [
      "1a295353daff40cba63779ec404642ad",
      ""
     ]
    },
    "id": "17e8e76a",
    "outputId": "8398ba0d-9876-438f-b656-bec83ddb3540"
   },
   "outputs": [],
   "source": [
    "#s3://capstonend/sas_data/\n",
    "immigration = 'Capstone/sas_data/'\n",
    "df_immigration = spark.read.parquet(immigration)"
   ]
  },
  {
   "cell_type": "code",
   "execution_count": 10,
   "metadata": {
    "colab": {
     "referenced_widgets": [
      "cf3e6d9509ae42008d3bf3a4750e3c72",
      ""
     ]
    },
    "id": "32415391",
    "outputId": "9f2a5ec5-79bd-4506-fc45-cb9321f5f596"
   },
   "outputs": [
    {
     "name": "stdout",
     "output_type": "stream",
     "text": [
      "root\n",
      " |-- City: string (nullable = true)\n",
      " |-- State: string (nullable = true)\n",
      " |-- Median Age: double (nullable = true)\n",
      " |-- Male Population: integer (nullable = true)\n",
      " |-- Female Population: integer (nullable = true)\n",
      " |-- Total Population: integer (nullable = true)\n",
      " |-- Number of Veterans: integer (nullable = true)\n",
      " |-- Foreign-born: integer (nullable = true)\n",
      " |-- Average Household Size: double (nullable = true)\n",
      " |-- State Code: string (nullable = true)\n",
      " |-- Race: string (nullable = true)\n",
      " |-- Count: integer (nullable = true)\n",
      "\n"
     ]
    }
   ],
   "source": [
    "df_demographics.printSchema()"
   ]
  },
  {
   "cell_type": "code",
   "execution_count": 11,
   "metadata": {
    "colab": {
     "referenced_widgets": [
      "de471f457fe144eaa39699e0ef6b3aea",
      ""
     ]
    },
    "id": "b8f4c1c3",
    "outputId": "1641e712-9c47-4ad0-b7bb-3cb8e9bfaaf5"
   },
   "outputs": [
    {
     "name": "stdout",
     "output_type": "stream",
     "text": [
      "+-------------+-------------+----------+---------------+-----------------+----------------+------------------+------------+----------------------+----------+------------------+-----+\n",
      "|         City|        State|Median Age|Male Population|Female Population|Total Population|Number of Veterans|Foreign-born|Average Household Size|State Code|              Race|Count|\n",
      "+-------------+-------------+----------+---------------+-----------------+----------------+------------------+------------+----------------------+----------+------------------+-----+\n",
      "|Silver Spring|     Maryland|      33.8|          40601|            41862|           82463|              1562|       30908|                   2.6|        MD|Hispanic or Latino|25924|\n",
      "|       Quincy|Massachusetts|      41.0|          44129|            49500|           93629|              4147|       32935|                  2.39|        MA|             White|58723|\n",
      "+-------------+-------------+----------+---------------+-----------------+----------------+------------------+------------+----------------------+----------+------------------+-----+\n",
      "only showing top 2 rows\n",
      "\n"
     ]
    }
   ],
   "source": [
    "df_demographics.show(2)"
   ]
  },
  {
   "cell_type": "code",
   "execution_count": 12,
   "metadata": {
    "colab": {
     "referenced_widgets": [
      "e6e14954302d462aad7d4dc3d2b271c3",
      ""
     ]
    },
    "id": "0c505cb4",
    "outputId": "5e35f8b6-f44a-48ac-96ea-00e6de2efddc"
   },
   "outputs": [
    {
     "name": "stdout",
     "output_type": "stream",
     "text": [
      "root\n",
      " |-- dt: date (nullable = true)\n",
      " |-- AverageTemperature: double (nullable = true)\n",
      " |-- AverageTemperatureUncertainty: double (nullable = true)\n",
      " |-- City: string (nullable = true)\n",
      " |-- Country: string (nullable = true)\n",
      " |-- Latitude: string (nullable = true)\n",
      " |-- Longitude: string (nullable = true)\n",
      "\n"
     ]
    }
   ],
   "source": [
    "df_temperature.printSchema()"
   ]
  },
  {
   "cell_type": "code",
   "execution_count": 13,
   "metadata": {
    "colab": {
     "referenced_widgets": [
      "c2f98d639b7b453dbeb1876fc76b79e2",
      ""
     ]
    },
    "id": "549659e1",
    "outputId": "64b3c3cd-787a-446b-d8df-49960f17379c"
   },
   "outputs": [
    {
     "name": "stdout",
     "output_type": "stream",
     "text": [
      "+----------+------------------+-----------------------------+-----+-------+--------+---------+\n",
      "|        dt|AverageTemperature|AverageTemperatureUncertainty| City|Country|Latitude|Longitude|\n",
      "+----------+------------------+-----------------------------+-----+-------+--------+---------+\n",
      "|1743-11-01|             6.068|           1.7369999999999999|Århus|Denmark|  57.05N|   10.33E|\n",
      "|1743-12-01|              null|                         null|Århus|Denmark|  57.05N|   10.33E|\n",
      "+----------+------------------+-----------------------------+-----+-------+--------+---------+\n",
      "only showing top 2 rows\n",
      "\n"
     ]
    }
   ],
   "source": [
    "df_temperature.show(2)"
   ]
  },
  {
   "cell_type": "code",
   "execution_count": 14,
   "metadata": {
    "colab": {
     "referenced_widgets": [
      "508181a30a39423ab7f28aeb286bf7d4",
      ""
     ]
    },
    "id": "651e3077",
    "outputId": "571edc4e-8288-4ccb-bf8d-5b38a27931d8"
   },
   "outputs": [
    {
     "name": "stdout",
     "output_type": "stream",
     "text": [
      "root\n",
      " |-- ident: string (nullable = true)\n",
      " |-- type: string (nullable = true)\n",
      " |-- name: string (nullable = true)\n",
      " |-- elevation_ft: integer (nullable = true)\n",
      " |-- continent: string (nullable = true)\n",
      " |-- iso_country: string (nullable = true)\n",
      " |-- iso_region: string (nullable = true)\n",
      " |-- municipality: string (nullable = true)\n",
      " |-- gps_code: string (nullable = true)\n",
      " |-- iata_code: string (nullable = true)\n",
      " |-- local_code: string (nullable = true)\n",
      " |-- coordinates: string (nullable = true)\n",
      "\n"
     ]
    }
   ],
   "source": [
    "df_airport_codes.printSchema()"
   ]
  },
  {
   "cell_type": "code",
   "execution_count": 15,
   "metadata": {
    "colab": {
     "referenced_widgets": [
      "eb62c50728c04fcfa66d7d3f5e82910b",
      ""
     ]
    },
    "id": "08ef2f26",
    "outputId": "deb5b997-46e8-487a-9b9d-71dab843c3f9"
   },
   "outputs": [
    {
     "name": "stdout",
     "output_type": "stream",
     "text": [
      "+-----+-------------+--------------------+------------+---------+-----------+----------+------------+--------+---------+----------+--------------------+\n",
      "|ident|         type|                name|elevation_ft|continent|iso_country|iso_region|municipality|gps_code|iata_code|local_code|         coordinates|\n",
      "+-----+-------------+--------------------+------------+---------+-----------+----------+------------+--------+---------+----------+--------------------+\n",
      "|  00A|     heliport|   Total Rf Heliport|          11|       NA|         US|     US-PA|    Bensalem|     00A|     null|       00A|-74.9336013793945...|\n",
      "| 00AA|small_airport|Aero B Ranch Airport|        3435|       NA|         US|     US-KS|       Leoti|    00AA|     null|      00AA|-101.473911, 38.7...|\n",
      "+-----+-------------+--------------------+------------+---------+-----------+----------+------------+--------+---------+----------+--------------------+\n",
      "only showing top 2 rows\n",
      "\n"
     ]
    }
   ],
   "source": [
    "df_airport_codes.show(2)"
   ]
  },
  {
   "cell_type": "code",
   "execution_count": 16,
   "metadata": {
    "colab": {
     "referenced_widgets": [
      "f073d3852db6434a89eef47570e7dbcc",
      ""
     ]
    },
    "id": "562545c0",
    "outputId": "55a9b2d6-39de-4427-f933-3e5d786c19d7"
   },
   "outputs": [
    {
     "name": "stdout",
     "output_type": "stream",
     "text": [
      "root\n",
      " |-- cicid: double (nullable = true)\n",
      " |-- i94yr: double (nullable = true)\n",
      " |-- i94mon: double (nullable = true)\n",
      " |-- i94cit: double (nullable = true)\n",
      " |-- i94res: double (nullable = true)\n",
      " |-- i94port: string (nullable = true)\n",
      " |-- arrdate: double (nullable = true)\n",
      " |-- i94mode: double (nullable = true)\n",
      " |-- i94addr: string (nullable = true)\n",
      " |-- depdate: double (nullable = true)\n",
      " |-- i94bir: double (nullable = true)\n",
      " |-- i94visa: double (nullable = true)\n",
      " |-- count: double (nullable = true)\n",
      " |-- dtadfile: string (nullable = true)\n",
      " |-- visapost: string (nullable = true)\n",
      " |-- occup: string (nullable = true)\n",
      " |-- entdepa: string (nullable = true)\n",
      " |-- entdepd: string (nullable = true)\n",
      " |-- entdepu: string (nullable = true)\n",
      " |-- matflag: string (nullable = true)\n",
      " |-- biryear: double (nullable = true)\n",
      " |-- dtaddto: string (nullable = true)\n",
      " |-- gender: string (nullable = true)\n",
      " |-- insnum: string (nullable = true)\n",
      " |-- airline: string (nullable = true)\n",
      " |-- admnum: double (nullable = true)\n",
      " |-- fltno: string (nullable = true)\n",
      " |-- visatype: string (nullable = true)\n",
      "\n"
     ]
    }
   ],
   "source": [
    "df_immigration.printSchema()"
   ]
  },
  {
   "cell_type": "code",
   "execution_count": 17,
   "metadata": {
    "colab": {
     "referenced_widgets": [
      "965089ecd8474632a8e762fa8de4bc0d",
      ""
     ]
    },
    "id": "5a05b348",
    "outputId": "9e890d94-40dd-4a84-ed1a-670dc6ee3df6"
   },
   "outputs": [
    {
     "name": "stdout",
     "output_type": "stream",
     "text": [
      "+---------+------+------+------+------+-------+-------+-------+-------+-------+------+-------+-----+--------+--------+-----+-------+-------+-------+-------+-------+--------+------+------+-------+--------------+-----+--------+\n",
      "|    cicid| i94yr|i94mon|i94cit|i94res|i94port|arrdate|i94mode|i94addr|depdate|i94bir|i94visa|count|dtadfile|visapost|occup|entdepa|entdepd|entdepu|matflag|biryear| dtaddto|gender|insnum|airline|        admnum|fltno|visatype|\n",
      "+---------+------+------+------+------+-------+-------+-------+-------+-------+------+-------+-----+--------+--------+-----+-------+-------+-------+-------+-------+--------+------+------+-------+--------------+-----+--------+\n",
      "|5748517.0|2016.0|   4.0| 245.0| 438.0|    LOS|20574.0|    1.0|     CA|20582.0|  40.0|    1.0|  1.0|20160430|     SYD| null|      G|      O|   null|      M| 1976.0|10292016|     F|  null|     QF|9.495387003E10|00011|      B1|\n",
      "|5748518.0|2016.0|   4.0| 245.0| 438.0|    LOS|20574.0|    1.0|     NV|20591.0|  32.0|    1.0|  1.0|20160430|     SYD| null|      G|      O|   null|      M| 1984.0|10292016|     F|  null|     VA|9.495562283E10|00007|      B1|\n",
      "+---------+------+------+------+------+-------+-------+-------+-------+-------+------+-------+-----+--------+--------+-----+-------+-------+-------+-------+-------+--------+------+------+-------+--------------+-----+--------+\n",
      "only showing top 2 rows\n",
      "\n"
     ]
    }
   ],
   "source": [
    "df_immigration.show(2)"
   ]
  },
  {
   "cell_type": "markdown",
   "metadata": {
    "id": "38ce8e27"
   },
   "source": [
    "## Cleaning (Transform)"
   ]
  },
  {
   "cell_type": "markdown",
   "metadata": {
    "id": "a2e3cf33"
   },
   "source": [
    "Temperature Data - We will drop all data points where AverageTemperature is NaN, duplicate locations, and add the i94port of the location in each entry."
   ]
  },
  {
   "cell_type": "code",
   "execution_count": 18,
   "metadata": {},
   "outputs": [],
   "source": [
    "def droping_nan_dup():\n",
    "    '''\n",
    "    Will drop nan rows, and duplicates of demographics and temperature\n",
    "    '''\n",
    "    global df_demographics\n",
    "    global df_temperature\n",
    "    global df_airport_codes\n",
    "    df_demographics = df_demographics.dropna()\n",
    "    df_temperature = df_temperature.filter(df_temperature.AverageTemperature != 'NaN')\n",
    "    df_temperature = df_temperature.dropDuplicates(['City', 'Country'])\n",
    "    df_airport_codes = df_airport_codes.dropna()"
   ]
  },
  {
   "cell_type": "code",
   "execution_count": 19,
   "metadata": {},
   "outputs": [],
   "source": [
    "droping_nan_dup()"
   ]
  },
  {
   "cell_type": "markdown",
   "metadata": {
    "id": "7bd4e0ed"
   },
   "source": [
    "*I94 immigration data* - We wil drop all data points with the destination city code i94port is not a valid value (XXX, 99, NaN, etc). This is described in I94_SAS_Labels_Description.SAS"
   ]
  },
  {
   "cell_type": "code",
   "execution_count": 20,
   "metadata": {},
   "outputs": [],
   "source": [
    "# Creating dict of i94port codes\n",
    "re_obj = re.compile(r'\\'(.*)\\'.*\\'(.*)\\'')\n",
    "i94port_valid = {}\n",
    "with open('Capstone/i94port_valid.txt') as f:\n",
    "     for data in f:\n",
    "         match = re_obj.search(data)\n",
    "         i94port_valid[match[1]]=[match[2]]"
   ]
  },
  {
   "cell_type": "code",
   "execution_count": 21,
   "metadata": {
    "colab": {
     "referenced_widgets": [
      "93b1bf73b6b048c5b02983119309cd76",
      ""
     ]
    },
    "id": "4023a763",
    "outputId": "57116587-f9d7-46ad-99d4-aac1321b3dca"
   },
   "outputs": [],
   "source": [
    "# Clean I94 immigration data\n",
    "def clean_i94_data(file):\n",
    "    '''    \n",
    "    Input: Path to I94 immigration data file\n",
    "    Output: Spark dataframe of I94 immigration data with valid i94port\n",
    "    '''\n",
    "    global df_immigration\n",
    "    # Filter out entries where i94port is invalid\n",
    "    df_immigration = df_immigration.filter(\n",
    "        df_immigration.i94port.isin(list(i94port_valid.keys())))\n",
    "    return df_immigration"
   ]
  },
  {
   "cell_type": "code",
   "execution_count": 22,
   "metadata": {
    "colab": {
     "referenced_widgets": [
      "13a187d7a8ca45aa8a44bdf02d888ad2",
      ""
     ]
    },
    "id": "6fb25756",
    "outputId": "e2190140-bab0-40df-cdc5-795ef20b1569"
   },
   "outputs": [],
   "source": [
    "df_immigration = clean_i94_data(df_immigration)"
   ]
  },
  {
   "cell_type": "code",
   "execution_count": 23,
   "metadata": {
    "colab": {
     "referenced_widgets": [
      "aebcd2abc65a4d069254223a44c622b9",
      ""
     ]
    },
    "id": "77a36f16",
    "outputId": "10d6359f-8c33-4584-fb0d-f055fce9f4ce"
   },
   "outputs": [
    {
     "name": "stdout",
     "output_type": "stream",
     "text": [
      "+---------+------+------+------+------+-------+-------+-------+-------+-------+------+-------+-----+--------+--------+-----+-------+-------+-------+-------+-------+--------+------+------+-------+--------------+-----+--------+\n",
      "|    cicid| i94yr|i94mon|i94cit|i94res|i94port|arrdate|i94mode|i94addr|depdate|i94bir|i94visa|count|dtadfile|visapost|occup|entdepa|entdepd|entdepu|matflag|biryear| dtaddto|gender|insnum|airline|        admnum|fltno|visatype|\n",
      "+---------+------+------+------+------+-------+-------+-------+-------+-------+------+-------+-----+--------+--------+-----+-------+-------+-------+-------+-------+--------+------+------+-------+--------------+-----+--------+\n",
      "|5748517.0|2016.0|   4.0| 245.0| 438.0|    LOS|20574.0|    1.0|     CA|20582.0|  40.0|    1.0|  1.0|20160430|     SYD| null|      G|      O|   null|      M| 1976.0|10292016|     F|  null|     QF|9.495387003E10|00011|      B1|\n",
      "|5748518.0|2016.0|   4.0| 245.0| 438.0|    LOS|20574.0|    1.0|     NV|20591.0|  32.0|    1.0|  1.0|20160430|     SYD| null|      G|      O|   null|      M| 1984.0|10292016|     F|  null|     VA|9.495562283E10|00007|      B1|\n",
      "|5748519.0|2016.0|   4.0| 245.0| 438.0|    LOS|20574.0|    1.0|     WA|20582.0|  29.0|    1.0|  1.0|20160430|     SYD| null|      G|      O|   null|      M| 1987.0|10292016|     M|  null|     DL|9.495640653E10|00040|      B1|\n",
      "|5748520.0|2016.0|   4.0| 245.0| 438.0|    LOS|20574.0|    1.0|     WA|20588.0|  29.0|    1.0|  1.0|20160430|     SYD| null|      G|      O|   null|      M| 1987.0|10292016|     F|  null|     DL|9.495645143E10|00040|      B1|\n",
      "|5748521.0|2016.0|   4.0| 245.0| 438.0|    LOS|20574.0|    1.0|     WA|20588.0|  28.0|    1.0|  1.0|20160430|     SYD| null|      G|      O|   null|      M| 1988.0|10292016|     M|  null|     DL|9.495638813E10|00040|      B1|\n",
      "|5748522.0|2016.0|   4.0| 245.0| 464.0|    HHW|20574.0|    1.0|     HI|20579.0|  57.0|    2.0|  1.0|20160430|     ACK| null|      G|      O|   null|      M| 1959.0|10292016|     M|  null|     NZ|9.498180283E10|00010|      B2|\n",
      "|5748523.0|2016.0|   4.0| 245.0| 464.0|    HHW|20574.0|    1.0|     HI|20586.0|  66.0|    2.0|  1.0|20160430|     ACK| null|      G|      O|   null|      M| 1950.0|10292016|     F|  null|     NZ|9.497968993E10|00010|      B2|\n",
      "|5748524.0|2016.0|   4.0| 245.0| 464.0|    HHW|20574.0|    1.0|     HI|20586.0|  41.0|    2.0|  1.0|20160430|     ACK| null|      G|      O|   null|      M| 1975.0|10292016|     F|  null|     NZ|9.497974673E10|00010|      B2|\n",
      "|5748525.0|2016.0|   4.0| 245.0| 464.0|    HOU|20574.0|    1.0|     FL|20581.0|  27.0|    2.0|  1.0|20160430|     ACK| null|      G|      O|   null|      M| 1989.0|10292016|     M|  null|     NZ|9.497324663E10|00028|      B2|\n",
      "|5748526.0|2016.0|   4.0| 245.0| 464.0|    LOS|20574.0|    1.0|     CA|20581.0|  26.0|    2.0|  1.0|20160430|     ACK| null|      G|      O|   null|      M| 1990.0|10292016|     F|  null|     NZ|9.501354793E10|00002|      B2|\n",
      "|5748527.0|2016.0|   4.0| 245.0| 504.0|    NEW|20574.0|    1.0|     MA|20576.0|  44.0|    2.0|  1.0|20160430|     GUZ| null|      G|      O|   null|      M| 1972.0|10292016|     M|  null|     UA|9.493828593E10|01215|      B2|\n",
      "|5748528.0|2016.0|   4.0| 245.0| 504.0|    LOS|20574.0|    1.0|   null|20575.0|  39.0|    2.0|  1.0|20160430|     GUZ| null|      G|      O|   null|      M| 1977.0|10292016|     M|  null|     CM|9.501810463E10|00472|      B2|\n",
      "|5748529.0|2016.0|   4.0| 245.0| 504.0|    WAS|20574.0|    1.0|     VA|20596.0|  38.0|    2.0|  1.0|20160430|     PNM| null|      G|      O|   null|      M| 1978.0|10292016|     M|  null|     CM|9.492489983E10|00488|      B2|\n",
      "|5748530.0|2016.0|   4.0| 245.0| 504.0|    LOS|20574.0|    1.0|     CA|20577.0|  56.0|    2.0|  1.0|20160430|     PNM| null|      G|      O|   null|      M| 1960.0|10292016|     F|  null|     CM|9.492648103E10|00302|      B2|\n",
      "|5748531.0|2016.0|   4.0| 245.0| 504.0|    LOS|20574.0|    1.0|     CA|20577.0|  38.0|    2.0|  1.0|20160430|     PNM| null|      G|      O|   null|      M| 1978.0|10282016|     M|  null|     CM|9.492629303E10|00302|      B2|\n",
      "|5748532.0|2016.0|   4.0| 245.0| 504.0|    MIA|20574.0|    1.0|     FL|20581.0|  53.0|    2.0|  1.0|20160430|     PNM| null|      G|      O|   null|      M| 1963.0|10292016|     F|  null|     CM|9.500640513E10|00430|      B2|\n",
      "|5748534.0|2016.0|   4.0| 245.0| 528.0|    SFR|20574.0|    1.0|     CA|   null|  84.0|    2.0|  1.0|20160430|     HNK| null|      G|   null|   null|   null| 1932.0|10282016|     F|  null|     CX|9.492476223E10|00872|      B2|\n",
      "|5748876.0|2016.0|   4.0| 245.0| 582.0|    HOU|20574.0|    1.0|     TX|20583.0|  43.0|    1.0|  1.0|20160430|     GUZ| null|      G|      O|   null|      M| 1973.0|10292016|     M|  null|     UA|9.499463063E10|05574|      B1|\n",
      "|5748877.0|2016.0|   4.0| 245.0| 582.0|    HOU|20574.0|    1.0|     TX|20583.0|  30.0|    1.0|  1.0|20160430|     GUZ| null|      G|      O|   null|      M| 1986.0|10292016|     F|  null|     UA|9.499447663E10|05574|      B1|\n",
      "|5748881.0|2016.0|   4.0| 245.0| 582.0|    LOS|20574.0|    1.0|     CA|20575.0|  34.0|    2.0|  1.0|20160430|     SHG| null|      G|      O|   null|      M| 1982.0|10292016|     M|  null|     AM|9.496770903E10|00646|      B2|\n",
      "+---------+------+------+------+------+-------+-------+-------+-------+-------+------+-------+-----+--------+--------+-----+-------+-------+-------+-------+-------+--------+------+------+-------+--------------+-----+--------+\n",
      "only showing top 20 rows\n",
      "\n"
     ]
    }
   ],
   "source": [
    "df_immigration.show()"
   ]
  },
  {
   "cell_type": "code",
   "execution_count": 24,
   "metadata": {
    "colab": {
     "referenced_widgets": [
      "660d9a3f0363437ebc681b97443ac1a3",
      ""
     ]
    },
    "id": "7d226da8",
    "outputId": "b887eff1-116f-4e02-ea83-a3444e1f664c"
   },
   "outputs": [],
   "source": [
    "@udf()\n",
    "def get_i94port(city):\n",
    "    '''\n",
    "    Input: City name\n",
    "    Output: Corresponding i94port\n",
    "    \n",
    "    '''\n",
    "    for key in i94port_valid:\n",
    "        if city and city.lower() in i94port_valid[key][0].lower():\n",
    "            return key"
   ]
  },
  {
   "cell_type": "code",
   "execution_count": 25,
   "metadata": {
    "colab": {
     "referenced_widgets": [
      "9d7bddc4b01a4de9b181fced25a47284",
      ""
     ]
    },
    "id": "587bd3c2",
    "outputId": "f63fade0-3910-4d5a-8046-d81675b5b20c"
   },
   "outputs": [],
   "source": [
    "# Add iport94 code based on city name, helps in joins\n",
    "df_temperature = df_temperature.withColumn(\"i94port\",get_i94port(df_temperature.City))"
   ]
  },
  {
   "cell_type": "code",
   "execution_count": 26,
   "metadata": {
    "colab": {
     "referenced_widgets": [
      "2e2f5cd97c5f4afe900a39dabd01a885",
      ""
     ]
    },
    "id": "3d595bb3",
    "outputId": "8699721d-a734-4413-c291-3b6bcbddafc9"
   },
   "outputs": [
    {
     "name": "stdout",
     "output_type": "stream",
     "text": [
      "+----------+-------------------+-----------------------------+---------+--------------------+--------+---------+-------+\n",
      "|        dt| AverageTemperature|AverageTemperatureUncertainty|     City|             Country|Latitude|Longitude|i94port|\n",
      "+----------+-------------------+-----------------------------+---------+--------------------+--------+---------+-------+\n",
      "|1852-07-01|             15.488|                        1.395|    Perth|           Australia|  31.35S|  114.97E|    PER|\n",
      "|1828-01-01|             -1.977|                        2.551|  Seattle|       United States|  47.42N|  121.97W|    SEA|\n",
      "|1743-11-01|              2.767|                        1.905| Hamilton|              Canada|  42.59N|   80.73W|    HAM|\n",
      "|1849-01-01|  7.399999999999999|                        2.699|  Ontario|       United States|  34.56N|  116.76W|    ONT|\n",
      "|1821-11-01|              2.322|                        2.375|  Spokane|       United States|  47.42N|  117.24W|    SPO|\n",
      "|1843-01-01| 18.874000000000002|                        2.017|Abu Dhabi|United Arab Emirates|  24.92N|   54.98E|    MAA|\n",
      "|1824-01-01|             25.229|                        1.094|    Anaco|           Venezuela|   8.84N|   64.05W|    ANA|\n",
      "|1855-05-01|              9.904|           1.4369999999999998|      Ica|                Peru|  13.66S|   75.14W|    CHI|\n",
      "|1835-01-01|              9.833|                        2.182|  Nogales|       United States|  31.35N|  111.20W|    NOG|\n",
      "|1743-11-01|  8.129999999999999|                        2.245|  Atlanta|       United States|  34.56N|   83.68W|    ATL|\n",
      "|1796-01-01|             15.552|                        2.305|      Mau|               India|  26.52N|   84.18E|    OGG|\n",
      "|1743-11-01|              3.264|                        1.665|   Newark|       United States|  40.99N|   74.56W|    NEW|\n",
      "|1857-01-01| 18.581000000000003|           1.8119999999999998|  Springs|        South Africa|  26.52S|   28.66E|    PSP|\n",
      "|1856-01-01| 26.055999999999997|           1.3769999999999998|      Ise|             Nigeria|   7.23N|    5.68E|    BOI|\n",
      "|1743-11-01|             18.722|                        2.302|  Orlando|       United States|  28.13N|   80.91W|    ORL|\n",
      "|1823-01-01|             11.602|           2.8160000000000003|   Laredo|       United States|  28.13N|   99.09W|    LCB|\n",
      "|1841-01-01| 13.107999999999999|                        2.519|     Tali|              Taiwan|  24.92N|  120.59E|    MET|\n",
      "|1828-01-01|-2.7630000000000003|                        2.617| Victoria|              Canada|  49.03N|  122.45W|    VIC|\n",
      "|1743-11-01| 1.1880000000000002|                        1.531|   Boston|       United States|  42.59N|   72.00W|    BOS|\n",
      "|1849-01-01|  8.091999999999999|           2.1919999999999997|Fairfield|       United States|  37.78N|  122.03W|    FTF|\n",
      "+----------+-------------------+-----------------------------+---------+--------------------+--------+---------+-------+\n",
      "only showing top 20 rows\n",
      "\n"
     ]
    }
   ],
   "source": [
    "# Remove data points with no iport94 code\n",
    "df_temperature = df_temperature.filter(df_temperature.i94port != 'null')\n",
    "df_temperature.show()"
   ]
  },
  {
   "cell_type": "code",
   "execution_count": 27,
   "metadata": {},
   "outputs": [],
   "source": [
    "def filter_temperature():\n",
    "    '''\n",
    "    Filters only temperature from United States, and add i94port\n",
    "    '''\n",
    "    global df_temperature\n",
    "    print('Before Removal =',df_temperature.count())\n",
    "    df_temperature = df_temperature.filter(\n",
    "    df_temperature.Country == 'United States')\n",
    "    print('After Removal =',df_temperature.count())"
   ]
  },
  {
   "cell_type": "code",
   "execution_count": 28,
   "metadata": {
    "colab": {
     "referenced_widgets": [
      "a0b2a26808a940bda3ce3891bc940360",
      ""
     ]
    },
    "id": "35dc5e38",
    "outputId": "ec584793-0cd3-4bba-a705-84ec2784b9ba"
   },
   "outputs": [
    {
     "name": "stdout",
     "output_type": "stream",
     "text": [
      "Before Removal = 207\n",
      "After Removal = 112\n"
     ]
    }
   ],
   "source": [
    "filter_temperature()"
   ]
  },
  {
   "cell_type": "code",
   "execution_count": 29,
   "metadata": {},
   "outputs": [
    {
     "name": "stdout",
     "output_type": "stream",
     "text": [
      "+----------+------------------+-----------------------------+----------------+-------------+--------+---------+-------+\n",
      "|        dt|AverageTemperature|AverageTemperatureUncertainty|            City|      Country|Latitude|Longitude|i94port|\n",
      "+----------+------------------+-----------------------------+----------------+-------------+--------+---------+-------+\n",
      "|1828-01-01|            -1.977|                        2.551|         Seattle|United States|  47.42N|  121.97W|    SEA|\n",
      "|1849-01-01| 7.399999999999999|                        2.699|         Ontario|United States|  34.56N|  116.76W|    ONT|\n",
      "|1821-11-01|             2.322|                        2.375|         Spokane|United States|  47.42N|  117.24W|    SPO|\n",
      "|1835-01-01|             9.833|                        2.182|         Nogales|United States|  31.35N|  111.20W|    NOG|\n",
      "|1743-11-01| 8.129999999999999|                        2.245|         Atlanta|United States|  34.56N|   83.68W|    ATL|\n",
      "|1743-11-01|             3.264|                        1.665|          Newark|United States|  40.99N|   74.56W|    NEW|\n",
      "|1743-11-01|            18.722|                        2.302|         Orlando|United States|  28.13N|   80.91W|    ORL|\n",
      "|1823-01-01|            11.602|           2.8160000000000003|          Laredo|United States|  28.13N|   99.09W|    LCB|\n",
      "|1743-11-01|1.1880000000000002|                        1.531|          Boston|United States|  42.59N|   72.00W|    BOS|\n",
      "|1849-01-01| 8.091999999999999|           2.1919999999999997|       Fairfield|United States|  37.78N|  122.03W|    FTF|\n",
      "|1820-01-01|              9.89|           3.8819999999999997|  Corpus Christi|United States|  28.13N|   97.27W|    CRP|\n",
      "|1849-01-01|6.4990000000000006|                        2.459|          Fresno|United States|  36.17N|  119.34W|    FRE|\n",
      "|1758-03-01|             2.512|                        3.833|           Omaha|United States|  40.99N|   95.86W|    OMA|\n",
      "|1743-11-01|             9.391|                        2.199|        Columbia|United States|  34.56N|   81.73W|    CAE|\n",
      "|1758-03-01|             2.512|                        3.833|         Lincoln|United States|  40.99N|   95.86W|    LLB|\n",
      "|1743-11-01|             3.264|                        1.665|        New York|United States|  40.99N|   74.56W|    NYC|\n",
      "|1758-03-01| 6.422999999999999|                        3.742|     Springfield|United States|  37.78N|   93.56W|    SPI|\n",
      "|1743-11-01|             7.442|                         2.32|       Nashville|United States|  36.17N|   87.51W|    NSV|\n",
      "|1775-04-01|7.0200000000000005|           2.3040000000000003|Colorado Springs|United States|  39.38N|  104.05W|    COS|\n",
      "|1743-11-01|             5.371|                        1.578|      Bridgeport|United States|  40.99N|   72.43W|    BGC|\n",
      "+----------+------------------+-----------------------------+----------------+-------------+--------+---------+-------+\n",
      "only showing top 20 rows\n",
      "\n"
     ]
    }
   ],
   "source": [
    "df_temperature.show()"
   ]
  },
  {
   "cell_type": "markdown",
   "metadata": {
    "id": "f9490f93"
   },
   "source": [
    "## Define the Data Model (Load)\n",
    "\n",
    "Fact Table - This will contain information from the I94 immigration data joined with the city temperature data on i94port\n",
    "Columns:\n",
    "i94yr = year, i94mon = numeric month, i94cit = 3 digit code of origin city, i94port = 3 character code of destination city, arrdate = arrival date, i94mode = 1 digit travel code, depdate = departure date, i94visa = reason for immigration, AverageTemperature = average temperature of destination city\n",
    "\n",
    "Dimension Tables - df_immigration, df_temperature\n",
    "\n",
    "df_immigration:-\n",
    "i94yr = year, i94mon = numeric month, i94cit = 3 digit code of origin city, i94port = 3 character code of destination city, arrdate = arrival date, i94mode = 1 digit travel code, depdate = departure date, i94visa = reason for immigration\n",
    "\n",
    "df_temperature:-\n",
    "i94port = code of destination city (mapped from cleaned up immigration data), AverageTemperature = average temperature, City = city name, Country = country name, Latitude= latitude, Longitude = longitude"
   ]
  },
  {
   "cell_type": "code",
   "execution_count": 30,
   "metadata": {
    "colab": {
     "referenced_widgets": [
      "4484e4a958bf4451a500ad395818ff18",
      ""
     ]
    },
    "id": "f9e2a7f4",
    "outputId": "f98f6c58-f25e-4a84-b6f7-27192a625c82"
   },
   "outputs": [],
   "source": [
    "def load_immigration():\n",
    "    '''\n",
    "    Extracts and saves the immigration table\n",
    "    '''\n",
    "    global df_immigration\n",
    "    # Immigration, extract and save\n",
    "    immigration_table = df_immigration.select([\n",
    "        \"i94yr\", \"i94mon\", \"i94cit\", \"i94port\", \"arrdate\", \"i94mode\", \"depdate\",\n",
    "        \"i94visa\"\n",
    "    ])\n",
    "    immigration_table.write.mode(\"append\").partitionBy(\"i94port\").parquet(\n",
    "        \"immigration.parquet\")"
   ]
  },
  {
   "cell_type": "code",
   "execution_count": 31,
   "metadata": {},
   "outputs": [],
   "source": [
    "load_immigration()"
   ]
  },
  {
   "cell_type": "code",
   "execution_count": 32,
   "metadata": {
    "colab": {
     "referenced_widgets": [
      "6d703c9bfe7442e08b9dcc3089a34eb4",
      ""
     ]
    },
    "id": "d418f592",
    "outputId": "d1f42720-69aa-42ab-d966-c119902188b1"
   },
   "outputs": [],
   "source": [
    "def load_temperature():\n",
    "    '''\n",
    "    Extracts and saves the temperature table\n",
    "    '''\n",
    "    global df_temperature\n",
    "    # Temperature\n",
    "    temp_table = df_temperature.select([\n",
    "        \"AverageTemperature\", \"City\", \"Country\", \"Latitude\", \"Longitude\", \"i94port\"\n",
    "    ])\n",
    "    temp_table.write.mode(\"append\").partitionBy(\"i94port\").parquet(\n",
    "        \"temperature.parquet\")"
   ]
  },
  {
   "cell_type": "code",
   "execution_count": 33,
   "metadata": {},
   "outputs": [],
   "source": [
    "load_temperature()"
   ]
  },
  {
   "cell_type": "code",
   "execution_count": 34,
   "metadata": {
    "colab": {
     "referenced_widgets": [
      "0c3436a5001945b8b0e9f6c8f70017f8",
      ""
     ]
    },
    "id": "f3363051",
    "outputId": "ed278a82-c9f8-463b-f370-9bec6789a77a"
   },
   "outputs": [],
   "source": [
    "def load_demographics():\n",
    "    '''\n",
    "    Extracts and saves the demographics table\n",
    "    '''\n",
    "    global df_demographics\n",
    "    df_demographics = df_demographics.withColumnRenamed(\n",
    "        'State Code', 'State_Code').withColumnRenamed(\n",
    "            'Male Population', 'Male_Population').withColumnRenamed(\n",
    "                'Female Population', 'Female_Population').withColumnRenamed(\n",
    "                    'Total Population', 'Total_Population').withColumnRenamed(\n",
    "                        'Number of Veterans',\n",
    "                        'Number_of_Veterans').withColumnRenamed(\n",
    "                            'Average Household Size',\n",
    "                            'Average_Household_Size').withColumnRenamed('Median Age', 'Median_Age')\n",
    "    df_demographics.write.mode(\"append\").parquet(\"demographics.parquet\")"
   ]
  },
  {
   "cell_type": "code",
   "execution_count": 35,
   "metadata": {},
   "outputs": [],
   "source": [
    "load_demographics()"
   ]
  },
  {
   "cell_type": "code",
   "execution_count": 36,
   "metadata": {
    "colab": {
     "referenced_widgets": [
      "97cec394f6f64138ab96cab4f827b2cb",
      ""
     ]
    },
    "id": "b93e9c41",
    "outputId": "1c176dd4-104a-4ed1-f999-1ccfc155cdd0"
   },
   "outputs": [],
   "source": [
    "def load_fact_table():\n",
    "    '''\n",
    "    Performs joins and extracts required columns for fact_table\n",
    "    '''\n",
    "    global df_immigration\n",
    "    global df_temperature\n",
    "    # For fact table, create views to use sql for easy join\n",
    "    df_immigration.createOrReplaceTempView(\"immigration_view\")\n",
    "    df_temperature.createOrReplaceTempView(\"temp_view\")\n",
    "\n",
    "    # Create the fact table by joining the immigration and temperature views\n",
    "    global fact_table\n",
    "    fact_table = spark.sql('''\n",
    "    SELECT immigration_view.i94yr as year,\n",
    "           immigration_view.i94mon as month,\n",
    "           immigration_view.i94cit as city,\n",
    "           immigration_view.i94port as i94port,\n",
    "           immigration_view.arrdate as arrival_date,\n",
    "           immigration_view.depdate as departure_date,\n",
    "           immigration_view.i94visa as reason,\n",
    "           temp_view.AverageTemperature as temperature,\n",
    "           temp_view.Latitude as latitude,\n",
    "           temp_view.Longitude as longitude\n",
    "    FROM immigration_view\n",
    "    JOIN temp_view ON (immigration_view.i94port = temp_view.i94port)\n",
    "    ''')\n",
    "    fact_table.write.mode(\"append\").partitionBy(\"i94port\").parquet(\n",
    "        \"fact_table.parquet\")"
   ]
  },
  {
   "cell_type": "code",
   "execution_count": 37,
   "metadata": {},
   "outputs": [],
   "source": [
    "load_fact_table()"
   ]
  },
  {
   "cell_type": "markdown",
   "metadata": {
    "id": "63ee3ccc"
   },
   "source": [
    "## Quality Checks"
   ]
  },
  {
   "cell_type": "markdown",
   "metadata": {},
   "source": [
    "Check the number of rows"
   ]
  },
  {
   "cell_type": "code",
   "execution_count": 38,
   "metadata": {
    "id": "zf7DUd_NfkRS"
   },
   "outputs": [],
   "source": [
    "def quality_checks_rows(table,name_):\n",
    "  '''\n",
    "  Input: table, and name of the table\n",
    "  Output: Print statement to check if the table passed the quality checks \n",
    "  '''\n",
    "  c = table.count()\n",
    "  if c > 0:\n",
    "    print(f'No. of rows in {name_} is {c}')\n",
    "  else:\n",
    "    print(f'Data quality check failed for {name_}')"
   ]
  },
  {
   "cell_type": "code",
   "execution_count": 39,
   "metadata": {
    "colab": {
     "referenced_widgets": [
      "f3d829d6f20f4470b72f702c3f6fee98",
      ""
     ]
    },
    "id": "b84f0d50",
    "outputId": "c905073e-c63a-48a6-ea80-6f92f2ec4148"
   },
   "outputs": [
    {
     "name": "stdout",
     "output_type": "stream",
     "text": [
      "No. of rows in df_immigration is 3088544\n"
     ]
    }
   ],
   "source": [
    "quality_checks_rows(df_immigration,'df_immigration')"
   ]
  },
  {
   "cell_type": "code",
   "execution_count": 40,
   "metadata": {
    "colab": {
     "referenced_widgets": [
      "357fd8210f46437fa3b1c5098b95334e",
      ""
     ]
    },
    "id": "04d2d14a",
    "outputId": "3bed52e8-b807-4185-8c73-7f2b76c40094"
   },
   "outputs": [
    {
     "name": "stdout",
     "output_type": "stream",
     "text": [
      "No. of rows in df_temperature is 112\n"
     ]
    }
   ],
   "source": [
    "quality_checks_rows(df_temperature,'df_temperature')"
   ]
  },
  {
   "cell_type": "code",
   "execution_count": 41,
   "metadata": {
    "colab": {
     "referenced_widgets": [
      "c2a82c000d03407989a03bb30d5e9b63",
      ""
     ]
    },
    "id": "d065840b",
    "outputId": "e90b7fff-c28a-415a-c5b2-0725ff3d61f5"
   },
   "outputs": [
    {
     "name": "stdout",
     "output_type": "stream",
     "text": [
      "No. of rows in df_demographics is 2875\n"
     ]
    }
   ],
   "source": [
    "quality_checks_rows(df_demographics,'df_demographics')"
   ]
  },
  {
   "cell_type": "code",
   "execution_count": 42,
   "metadata": {
    "colab": {
     "referenced_widgets": [
      "7ae34dea6a0d41bf8a5b03c8f9bc9dcf",
      ""
     ]
    },
    "id": "af912526",
    "outputId": "b2bc1647-9f45-4c1f-8248-45c934825d17"
   },
   "outputs": [
    {
     "name": "stdout",
     "output_type": "stream",
     "text": [
      "No. of rows in fact_table is 2568134\n"
     ]
    }
   ],
   "source": [
    "quality_checks_rows(fact_table,'fact_table')"
   ]
  },
  {
   "cell_type": "code",
   "execution_count": 79,
   "metadata": {},
   "outputs": [],
   "source": [
    "df_demographics = df_demographics.withColumnRenamed('count','counts')# Renaming column for quality checks"
   ]
  },
  {
   "cell_type": "code",
   "execution_count": 83,
   "metadata": {},
   "outputs": [],
   "source": [
    "df_immigration = df_immigration.withColumnRenamed('count','counts')# Renaming column for quality checks"
   ]
  },
  {
   "cell_type": "code",
   "execution_count": 75,
   "metadata": {},
   "outputs": [],
   "source": [
    "import pyspark.sql.functions as f\n",
    "def quality_checks_dups(df,name_):\n",
    "    c = df.groupBy(df.columns)\\\n",
    "    .count()\\\n",
    "    .where(f.col('count') > 1)\\\n",
    "    .select(f.sum('count')).collect()[0][0]\n",
    "    if c and c > 1:\n",
    "        print(f'Data quality check failed!! No. of rows in {name_} are duplicate')\n",
    "    else:\n",
    "        print(f'Data quality check passed for {name_}')"
   ]
  },
  {
   "cell_type": "code",
   "execution_count": 76,
   "metadata": {},
   "outputs": [
    {
     "name": "stdout",
     "output_type": "stream",
     "text": [
      "Data quality check passed for temperature\n"
     ]
    }
   ],
   "source": [
    "quality_checks_dups(df_temperature,'temperature')"
   ]
  },
  {
   "cell_type": "code",
   "execution_count": 80,
   "metadata": {},
   "outputs": [
    {
     "name": "stdout",
     "output_type": "stream",
     "text": [
      "Data quality check passed for demographics\n"
     ]
    }
   ],
   "source": [
    "quality_checks_dups(df_demographics,'demographics')"
   ]
  },
  {
   "cell_type": "code",
   "execution_count": 84,
   "metadata": {},
   "outputs": [
    {
     "name": "stdout",
     "output_type": "stream",
     "text": [
      "Data quality check passed for immigration\n"
     ]
    }
   ],
   "source": [
    "quality_checks_dups(df_immigration,'immigration')"
   ]
  },
  {
   "cell_type": "markdown",
   "metadata": {},
   "source": [
    "## Validating Loaded Data"
   ]
  },
  {
   "cell_type": "code",
   "execution_count": 43,
   "metadata": {},
   "outputs": [],
   "source": [
    "temperature = './temperature.parquet'\n",
    "df_temperature = spark.read.parquet(temperature)"
   ]
  },
  {
   "cell_type": "code",
   "execution_count": 44,
   "metadata": {},
   "outputs": [
    {
     "name": "stdout",
     "output_type": "stream",
     "text": [
      "+------------------+----------------+-------------+--------+---------+-------+\n",
      "|AverageTemperature|            City|      Country|Latitude|Longitude|i94port|\n",
      "+------------------+----------------+-------------+--------+---------+-------+\n",
      "|7.0200000000000005|Colorado Springs|United States|  39.38N|  104.05W|    COS|\n",
      "|             3.653|  Salt Lake City|United States|  40.99N|  112.90W|    SLC|\n",
      "|            19.761| Fort Lauderdale|United States|  26.52N|   80.60W|    FTL|\n",
      "|              9.89|  Corpus Christi|United States|  28.13N|   97.27W|    CRP|\n",
      "| 8.091999999999999|   San Francisco|United States|  37.78N|  122.03W|    SFR|\n",
      "|             22.32|   Oklahoma City|United States|  36.17N|   97.46W|    OKC|\n",
      "| 8.818999999999999|     Los Angeles|United States|  34.56N|  118.70W|    LOS|\n",
      "|             17.55|    Jacksonville|United States|  29.74N|   81.23W|    JAC|\n",
      "|             -3.42|     Albuquerque|United States|  34.56N|  107.03W|    ABQ|\n",
      "| 6.072000000000001|    Philadelphia|United States|  39.38N|   74.91W|    PHI|\n",
      "|1.9390000000000005|    Grand Rapids|United States|  42.59N|   85.09W|    GRP|\n",
      "| 4.372999999999998|    Indianapolis|United States|  39.38N|   85.32W|    INP|\n",
      "|6.4990000000000006|     Bakersfield|United States|  36.17N|  119.34W|    BFL|\n",
      "|             0.706|    Cedar Rapids|United States|  42.59N|   91.64W|    CID|\n",
      "|             9.892|    Fayetteville|United States|  34.56N|   79.78W|    FAY|\n",
      "|15.827000000000002|     New Orleans|United States|  29.74N|   90.46W|    NOL|\n",
      "| 4.800000000000002|     Kansas City|United States|  39.38N|   93.64W|    KAN|\n",
      "| 8.091999999999999|      Sacramento|United States|  37.78N|  122.03W|    SAC|\n",
      "| 7.168999999999999|     San Antonio|United States|  29.74N|   97.85W|    SNA|\n",
      "|            16.028|     Brownsville|United States|  26.52N|   96.72W|    BRO|\n",
      "+------------------+----------------+-------------+--------+---------+-------+\n",
      "only showing top 20 rows\n",
      "\n"
     ]
    }
   ],
   "source": [
    "df_temperature.show()"
   ]
  },
  {
   "cell_type": "code",
   "execution_count": 45,
   "metadata": {},
   "outputs": [],
   "source": [
    "df_demographics = df_demographics.withColumnRenamed('Foreign-born','Foreign_born') # Renaming Column"
   ]
  },
  {
   "cell_type": "code",
   "execution_count": 46,
   "metadata": {},
   "outputs": [
    {
     "name": "stdout",
     "output_type": "stream",
     "text": [
      "+----------------+--------------+----------+---------------+-----------------+----------------+------------------+------------+----------------------+----------+--------------------+------+\n",
      "|            City|         State|Median_Age|Male_Population|Female_Population|Total_Population|Number_of_Veterans|Foreign_born|Average_Household_Size|State_Code|                Race| Count|\n",
      "+----------------+--------------+----------+---------------+-----------------+----------------+------------------+------------+----------------------+----------+--------------------+------+\n",
      "|   Silver Spring|      Maryland|      33.8|          40601|            41862|           82463|              1562|       30908|                   2.6|        MD|  Hispanic or Latino| 25924|\n",
      "|          Quincy| Massachusetts|      41.0|          44129|            49500|           93629|              4147|       32935|                  2.39|        MA|               White| 58723|\n",
      "|          Hoover|       Alabama|      38.5|          38040|            46799|           84839|              4819|        8229|                  2.58|        AL|               Asian|  4759|\n",
      "|Rancho Cucamonga|    California|      34.5|          88127|            87105|          175232|              5821|       33878|                  3.18|        CA|Black or African-...| 24437|\n",
      "|          Newark|    New Jersey|      34.6|         138040|           143873|          281913|              5829|       86253|                  2.73|        NJ|               White| 76402|\n",
      "|          Peoria|      Illinois|      33.1|          56229|            62432|          118661|              6634|        7517|                   2.4|        IL|American Indian a...|  1343|\n",
      "|        Avondale|       Arizona|      29.1|          38712|            41971|           80683|              4815|        8355|                  3.18|        AZ|Black or African-...| 11592|\n",
      "|     West Covina|    California|      39.8|          51629|            56860|          108489|              3800|       37038|                  3.56|        CA|               Asian| 32716|\n",
      "|        O'Fallon|      Missouri|      36.0|          41762|            43270|           85032|              5783|        3269|                  2.77|        MO|  Hispanic or Latino|  2583|\n",
      "|      High Point|North Carolina|      35.5|          51751|            58077|          109828|              5204|       16315|                  2.65|        NC|               Asian| 11060|\n",
      "|          Folsom|    California|      40.9|          41051|            35317|           76368|              4187|       13234|                  2.62|        CA|  Hispanic or Latino|  5822|\n",
      "|          Folsom|    California|      40.9|          41051|            35317|           76368|              4187|       13234|                  2.62|        CA|American Indian a...|   998|\n",
      "|    Philadelphia|  Pennsylvania|      34.1|         741270|           826172|         1567442|             61995|      205339|                  2.61|        PA|               Asian|122721|\n",
      "|         Wichita|        Kansas|      34.6|         192354|           197601|          389955|             23978|       40270|                  2.56|        KS|  Hispanic or Latino| 65162|\n",
      "|         Wichita|        Kansas|      34.6|         192354|           197601|          389955|             23978|       40270|                  2.56|        KS|American Indian a...|  8791|\n",
      "|      Fort Myers|       Florida|      37.3|          36850|            37165|           74015|              4312|       15365|                  2.45|        FL|               White| 50169|\n",
      "|      Pittsburgh|  Pennsylvania|      32.9|         149690|           154695|          304385|             17728|       28187|                  2.13|        PA|               White|208863|\n",
      "|          Laredo|         Texas|      28.8|         124305|           131484|          255789|              4921|       68427|                  3.66|        TX|American Indian a...|  1253|\n",
      "|        Berkeley|    California|      32.5|          60142|            60829|          120971|              3736|       25000|                  2.35|        CA|               Asian| 27089|\n",
      "|     Santa Clara|    California|      35.2|          63278|            62938|          126216|              4426|       52281|                  2.75|        CA|               White| 55847|\n",
      "+----------------+--------------+----------+---------------+-----------------+----------------+------------------+------------+----------------------+----------+--------------------+------+\n",
      "only showing top 20 rows\n",
      "\n"
     ]
    }
   ],
   "source": [
    "df_demographics.show()"
   ]
  },
  {
   "cell_type": "code",
   "execution_count": 47,
   "metadata": {},
   "outputs": [],
   "source": [
    "df_demographics.createOrReplaceTempView(\"demo_view\")\n",
    "df_temperature.createOrReplaceTempView(\"temp_view\")"
   ]
  },
  {
   "cell_type": "code",
   "execution_count": 48,
   "metadata": {},
   "outputs": [
    {
     "name": "stdout",
     "output_type": "stream",
     "text": [
      "+-------------------+-----------+------------------+-------+\n",
      "|previous_immigrants|       City|AverageTemperature|i94port|\n",
      "+-------------------+-----------+------------------+-------+\n",
      "|            3212500|   New York|             3.264|    NYC|\n",
      "|            3212500|   New York|             3.264|    NYC|\n",
      "|            3212500|   New York|             3.264|    NYC|\n",
      "|            3212500|   New York|             3.264|    NYC|\n",
      "|            3212500|   New York|             3.264|    NYC|\n",
      "|            1485425|Los Angeles| 8.818999999999999|    LOS|\n",
      "|            1485425|Los Angeles| 8.818999999999999|    LOS|\n",
      "|            1485425|Los Angeles| 8.818999999999999|    LOS|\n",
      "|            1485425|Los Angeles| 8.818999999999999|    LOS|\n",
      "|            1485425|Los Angeles| 8.818999999999999|    LOS|\n",
      "|             696210|    Houston| 8.046000000000001|    HOU|\n",
      "|             696210|    Houston| 8.046000000000001|    HOU|\n",
      "|             696210|    Houston| 8.046000000000001|    HOU|\n",
      "|             696210|    Houston| 8.046000000000001|    HOU|\n",
      "|             696210|    Houston| 8.046000000000001|    HOU|\n",
      "|             573463|    Chicago|             5.436|    CHI|\n",
      "|             573463|    Chicago|             5.436|    CHI|\n",
      "|             573463|    Chicago|             5.436|    CHI|\n",
      "|             573463|    Chicago|             5.436|    CHI|\n",
      "|             573463|    Chicago|             5.436|    CHI|\n",
      "+-------------------+-----------+------------------+-------+\n",
      "only showing top 20 rows\n",
      "\n"
     ]
    }
   ],
   "source": [
    "spark.sql('''\n",
    "    SELECT d.Foreign_born as previous_immigrants,t.City,t.AverageTemperature, t.i94port\n",
    "    FROM demo_view d JOIN temp_view t \n",
    "    ON t.City = d.City\n",
    "    ORDER BY previous_immigrants DESC\n",
    "    ''').show()"
   ]
  },
  {
   "cell_type": "markdown",
   "metadata": {},
   "source": [
    "As you can see, instead of temperature, there are other factors that come into play for immigrants"
   ]
  },
  {
   "cell_type": "code",
   "execution_count": null,
   "metadata": {
    "colab": {
     "referenced_widgets": [
      "4044ade30fea4e218e9e0bdb05822930",
      ""
     ]
    },
    "id": "0e434748",
    "jupyter": {
     "source_hidden": true
    },
    "outputId": "22f79162-10ac-4257-b096-3cb60716cf07"
   },
   "outputs": [],
   "source": []
  },
  {
   "cell_type": "markdown",
   "metadata": {
    "id": "5bec15a0"
   },
   "source": [
    "In this project, we used Spark since it can easily handle multiple file formats (parquet, csv, text) that contain large amounts of data. Spark SQL was used form fact table.\n",
    "\n",
    "Since, files update monthly, we can create airflow pipeline to run monthly if needed."
   ]
  },
  {
   "cell_type": "code",
   "execution_count": null,
   "metadata": {
    "id": "703322e3"
   },
   "outputs": [],
   "source": []
  }
 ],
 "metadata": {
  "colab": {
   "collapsed_sections": [],
   "name": "Capstone Notebook.ipynb",
   "provenance": []
  },
  "kernelspec": {
   "display_name": "Python 3",
   "language": "python",
   "name": "python3"
  },
  "language_info": {
   "codemirror_mode": {
    "name": "ipython",
    "version": 3
   },
   "file_extension": ".py",
   "mimetype": "text/x-python",
   "name": "python",
   "nbconvert_exporter": "python",
   "pygments_lexer": "ipython3",
   "version": "3.8.5"
  }
 },
 "nbformat": 4,
 "nbformat_minor": 5
}
